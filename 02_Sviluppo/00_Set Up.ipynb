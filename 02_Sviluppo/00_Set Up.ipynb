{
 "cells": [
  {
   "cell_type": "markdown",
   "id": "88094b04",
   "metadata": {},
   "source": [
    "# SET UP"
   ]
  },
  {
   "cell_type": "markdown",
   "id": "2cc6b0de",
   "metadata": {},
   "source": [
    "## CREARE L'AMBIENTE PER IL PROGETTO"
   ]
  },
  {
   "cell_type": "markdown",
   "id": "ec2c52fc",
   "metadata": {},
   "source": [
    "Creare un nuovo ambiente e installare le librerie basiche:\n",
    "\n",
    "1. Aprire al prompt o al terminale\n",
    "2. Copia e inserisci la riga di fondo:\n",
    "\n",
    "conda create --name bitcoin python numpy pandas matplotlib seaborn scikit-learn scipy sqlalchemy xgboost jupyter tensorflow  plotly yfinance pandas_datareader\n",
    "\n",
    "3. Attiva il nuovo ambiente:\n",
    "\n",
    "conda activate finance\n",
    "\n",
    "4. Installa i pacchetti che si trovano in altri canali:\n",
    "\n",
    "conda install -c conda-forge pyjanitor scikit-plot yellowbrick imbalanced-learn jupyter_contrib_nbextensions cloudpickle\n",
    "\n",
    "conda install -c districtdatalabs yellowbrick\n",
    "\n",
    "pip install category_encoders\n",
    "\n",
    "5. Creare il file environment.yml\n",
    "\n",
    "conda env export > finance.yml\n",
    "\n",
    "*Nota: enviroment in C:\\Users\\tu_usuario."
   ]
  },
  {
   "cell_type": "markdown",
   "id": "aa2291ac",
   "metadata": {},
   "source": [
    "## CREA LA CARTELLA DEL PROGETTO"
   ]
  },
  {
   "cell_type": "markdown",
   "id": "9b376a0e",
   "metadata": {},
   "source": [
    "### Definire la directory principale "
   ]
  },
  {
   "cell_type": "code",
   "execution_count": 4,
   "id": "ff896569",
   "metadata": {},
   "outputs": [],
   "source": [
    "radice = 'C:/BIP Forecast/git/Finanza'"
   ]
  },
  {
   "cell_type": "markdown",
   "id": "ded3d58c",
   "metadata": {},
   "source": [
    "### Definire il nome del progetto"
   ]
  },
  {
   "cell_type": "code",
   "execution_count": 5,
   "id": "3b7dece1",
   "metadata": {},
   "outputs": [],
   "source": [
    "nome_dir = 'Progetto-finanza'"
   ]
  },
  {
   "cell_type": "markdown",
   "id": "e98c881a",
   "metadata": {},
   "source": [
    "### Creare la directory e la struttura del progetto"
   ]
  },
  {
   "cell_type": "code",
   "execution_count": 6,
   "id": "b9d57a72",
   "metadata": {},
   "outputs": [],
   "source": [
    "path = radice + nome_dir"
   ]
  },
  {
   "cell_type": "code",
   "execution_count": 7,
   "id": "701b90fc",
   "metadata": {},
   "outputs": [
    {
     "data": {
      "text/plain": [
       "'C:/BIP Forecast/git/FinanzaProgetto-finanza'"
      ]
     },
     "execution_count": 7,
     "metadata": {},
     "output_type": "execute_result"
    }
   ],
   "source": [
    "path"
   ]
  },
  {
   "cell_type": "code",
   "execution_count": 17,
   "id": "ea789940",
   "metadata": {
    "scrolled": false
   },
   "outputs": [
    {
     "name": "stdout",
     "output_type": "stream",
     "text": [
      "La creación del directorio C:/Miguel/progetti/02_BITCOIN ha fallado\n"
     ]
    }
   ],
   "source": [
    "# path = radice + nome_dir\n",
    "\n",
    "# try:\n",
    "#     os.mkdir(path)\n",
    "#     os.mkdir(path + '/01_Documenti')\n",
    "#     os.mkdir(path + '/02_Dati')\n",
    "#     os.mkdir(path + '/02_Dati/01_Originali')\n",
    "#     os.mkdir(path + '/02_Dati/02_Validacion')\n",
    "#     os.mkdir(path + '/02_Dati/03_Train')\n",
    "#     os.mkdir(path + '/02_Dati/04_Caches')\n",
    "#     os.mkdir(path + '/03_Notebooks')\n",
    "#     os.mkdir(path + '/03_Notebooks/01_Funzioni')\n",
    "#     os.mkdir(path + '/03_Notebooks/02_Sviluppo')\n",
    "#     os.mkdir(path + '/03_Notebooks/03_Sistema e produzione')\n",
    "#     os.mkdir(path + '/04_Modelli')\n",
    "#     os.mkdir(path + '/05_Resultati')\n",
    "#     os.mkdir(path + '/09_Altro')\n",
    "    \n",
    "# except OSError:\n",
    "#     print (\"Creazione della directory %s non riuscita\" % path)\n",
    "# else:\n",
    "#     print (\"Directory creata con successo %s \" % path)"
   ]
  },
  {
   "cell_type": "markdown",
   "id": "fbdda974",
   "metadata": {},
   "source": [
    "### Inserisce la directory di lavoro nel progetto"
   ]
  },
  {
   "cell_type": "code",
   "execution_count": 13,
   "id": "6cf7027a",
   "metadata": {},
   "outputs": [],
   "source": [
    "os.chdir(path)"
   ]
  },
  {
   "cell_type": "markdown",
   "id": "c80bcf5b",
   "metadata": {},
   "source": [
    "### Spostare manualmente l'environment.yml"
   ]
  },
  {
   "cell_type": "markdown",
   "id": "5cfd72fa",
   "metadata": {},
   "source": [
    "finance.yml "
   ]
  }
 ],
 "metadata": {
  "kernelspec": {
   "display_name": "Python 3 (ipykernel)",
   "language": "python",
   "name": "python3"
  },
  "language_info": {
   "codemirror_mode": {
    "name": "ipython",
    "version": 3
   },
   "file_extension": ".py",
   "mimetype": "text/x-python",
   "name": "python",
   "nbconvert_exporter": "python",
   "pygments_lexer": "ipython3",
   "version": "3.10.9"
  },
  "toc": {
   "base_numbering": 1,
   "nav_menu": {},
   "number_sections": true,
   "sideBar": true,
   "skip_h1_title": false,
   "title_cell": "Table of Contents",
   "title_sidebar": "Contents",
   "toc_cell": false,
   "toc_position": {
    "height": "calc(100% - 180px)",
    "left": "10px",
    "top": "150px",
    "width": "359.391px"
   },
   "toc_section_display": true,
   "toc_window_display": true
  },
  "varInspector": {
   "cols": {
    "lenName": 16,
    "lenType": 16,
    "lenVar": 40
   },
   "kernels_config": {
    "python": {
     "delete_cmd_postfix": "",
     "delete_cmd_prefix": "del ",
     "library": "var_list.py",
     "varRefreshCmd": "print(var_dic_list())"
    },
    "r": {
     "delete_cmd_postfix": ") ",
     "delete_cmd_prefix": "rm(",
     "library": "var_list.r",
     "varRefreshCmd": "cat(var_dic_list()) "
    }
   },
   "types_to_exclude": [
    "module",
    "function",
    "builtin_function_or_method",
    "instance",
    "_Feature"
   ],
   "window_display": false
  }
 },
 "nbformat": 4,
 "nbformat_minor": 5
}
