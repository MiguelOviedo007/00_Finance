{
 "cells": [
  {
   "cell_type": "markdown",
   "id": "49b7e02c",
   "metadata": {},
   "source": [
    "## Download prezzi stocks"
   ]
  },
  {
   "cell_type": "code",
   "execution_count": 1,
   "id": "db02a7a6",
   "metadata": {},
   "outputs": [
    {
     "name": "stdout",
     "output_type": "stream",
     "text": [
      "[*********************100%***********************]  1 of 1 completed\n",
      "[*********************100%***********************]  1 of 1 completed\n",
      "[*********************100%***********************]  1 of 1 completed\n",
      "[*********************100%***********************]  1 of 1 completed\n",
      "[*********************100%***********************]  1 of 1 completed\n",
      "[*********************100%***********************]  1 of 1 completed\n",
      "[*********************100%***********************]  1 of 1 completed\n",
      "[*********************100%***********************]  1 of 1 completed\n"
     ]
    }
   ],
   "source": [
    "import numpy as np\n",
    "import pandas as pd\n",
    "from pandas_datareader import data\n",
    "import yfinance as yf\n",
    "from datetime import datetime\n",
    "yf.pdr_override()\n",
    "start_date = datetime(2010, 5, 16)  # Data di inizio\n",
    "end_date = datetime(2024, 1, 17)\n",
    "\n",
    "tickers = ['ACN', 'BABA', 'MPW', 'SRG.MI', \"SNOW\", 'DIS' , \"EUNA.DE\", \"VWCE.DE\"]\n",
    "\n",
    "matrice_prezzi = pd.DataFrame()\n",
    "for t in tickers:\n",
    "    matrice_prezzi[t] = data.get_data_yahoo(t, start_date, end_date)['Adj Close']"
   ]
  },
  {
   "cell_type": "code",
   "execution_count": 2,
   "id": "3e584611",
   "metadata": {},
   "outputs": [
    {
     "data": {
      "text/html": [
       "<div>\n",
       "<style scoped>\n",
       "    .dataframe tbody tr th:only-of-type {\n",
       "        vertical-align: middle;\n",
       "    }\n",
       "\n",
       "    .dataframe tbody tr th {\n",
       "        vertical-align: top;\n",
       "    }\n",
       "\n",
       "    .dataframe thead th {\n",
       "        text-align: right;\n",
       "    }\n",
       "</style>\n",
       "<table border=\"1\" class=\"dataframe\">\n",
       "  <thead>\n",
       "    <tr style=\"text-align: right;\">\n",
       "      <th></th>\n",
       "      <th>ACN</th>\n",
       "      <th>BABA</th>\n",
       "      <th>MPW</th>\n",
       "      <th>SRG.MI</th>\n",
       "      <th>SNOW</th>\n",
       "      <th>DIS</th>\n",
       "      <th>EUNA.DE</th>\n",
       "      <th>VWCE.DE</th>\n",
       "    </tr>\n",
       "    <tr>\n",
       "      <th>Date</th>\n",
       "      <th></th>\n",
       "      <th></th>\n",
       "      <th></th>\n",
       "      <th></th>\n",
       "      <th></th>\n",
       "      <th></th>\n",
       "      <th></th>\n",
       "      <th></th>\n",
       "    </tr>\n",
       "  </thead>\n",
       "  <tbody>\n",
       "    <tr>\n",
       "      <th>2010-05-17</th>\n",
       "      <td>30.876364</td>\n",
       "      <td>NaN</td>\n",
       "      <td>3.679935</td>\n",
       "      <td>1.540679</td>\n",
       "      <td>NaN</td>\n",
       "      <td>29.692446</td>\n",
       "      <td>NaN</td>\n",
       "      <td>NaN</td>\n",
       "    </tr>\n",
       "    <tr>\n",
       "      <th>2010-05-18</th>\n",
       "      <td>30.442150</td>\n",
       "      <td>NaN</td>\n",
       "      <td>3.653542</td>\n",
       "      <td>1.574221</td>\n",
       "      <td>NaN</td>\n",
       "      <td>29.284389</td>\n",
       "      <td>NaN</td>\n",
       "      <td>NaN</td>\n",
       "    </tr>\n",
       "    <tr>\n",
       "      <th>2010-05-19</th>\n",
       "      <td>30.426640</td>\n",
       "      <td>NaN</td>\n",
       "      <td>3.630920</td>\n",
       "      <td>1.577574</td>\n",
       "      <td>NaN</td>\n",
       "      <td>28.989202</td>\n",
       "      <td>NaN</td>\n",
       "      <td>NaN</td>\n",
       "    </tr>\n",
       "    <tr>\n",
       "      <th>2010-05-20</th>\n",
       "      <td>29.434124</td>\n",
       "      <td>NaN</td>\n",
       "      <td>3.374531</td>\n",
       "      <td>1.559686</td>\n",
       "      <td>NaN</td>\n",
       "      <td>27.773726</td>\n",
       "      <td>NaN</td>\n",
       "      <td>NaN</td>\n",
       "    </tr>\n",
       "    <tr>\n",
       "      <th>2010-05-21</th>\n",
       "      <td>29.573702</td>\n",
       "      <td>NaN</td>\n",
       "      <td>3.472562</td>\n",
       "      <td>1.544033</td>\n",
       "      <td>NaN</td>\n",
       "      <td>28.537739</td>\n",
       "      <td>NaN</td>\n",
       "      <td>NaN</td>\n",
       "    </tr>\n",
       "    <tr>\n",
       "      <th>...</th>\n",
       "      <td>...</td>\n",
       "      <td>...</td>\n",
       "      <td>...</td>\n",
       "      <td>...</td>\n",
       "      <td>...</td>\n",
       "      <td>...</td>\n",
       "      <td>...</td>\n",
       "      <td>...</td>\n",
       "    </tr>\n",
       "    <tr>\n",
       "      <th>2024-01-09</th>\n",
       "      <td>341.502960</td>\n",
       "      <td>72.019997</td>\n",
       "      <td>3.660000</td>\n",
       "      <td>4.821000</td>\n",
       "      <td>196.899994</td>\n",
       "      <td>89.669998</td>\n",
       "      <td>4.7035</td>\n",
       "      <td>107.139999</td>\n",
       "    </tr>\n",
       "    <tr>\n",
       "      <th>2024-01-10</th>\n",
       "      <td>344.073578</td>\n",
       "      <td>71.410004</td>\n",
       "      <td>3.640000</td>\n",
       "      <td>4.783000</td>\n",
       "      <td>197.399994</td>\n",
       "      <td>89.290001</td>\n",
       "      <td>4.7031</td>\n",
       "      <td>107.080002</td>\n",
       "    </tr>\n",
       "    <tr>\n",
       "      <th>2024-01-11</th>\n",
       "      <td>346.703979</td>\n",
       "      <td>72.379997</td>\n",
       "      <td>3.530000</td>\n",
       "      <td>4.751000</td>\n",
       "      <td>195.619995</td>\n",
       "      <td>89.449997</td>\n",
       "      <td>4.7003</td>\n",
       "      <td>106.739998</td>\n",
       "    </tr>\n",
       "    <tr>\n",
       "      <th>2024-01-12</th>\n",
       "      <td>355.033539</td>\n",
       "      <td>71.839996</td>\n",
       "      <td>3.430000</td>\n",
       "      <td>4.849000</td>\n",
       "      <td>191.259995</td>\n",
       "      <td>90.349998</td>\n",
       "      <td>4.7212</td>\n",
       "      <td>107.540001</td>\n",
       "    </tr>\n",
       "    <tr>\n",
       "      <th>2024-01-16</th>\n",
       "      <td>353.269989</td>\n",
       "      <td>69.459999</td>\n",
       "      <td>3.240000</td>\n",
       "      <td>4.870000</td>\n",
       "      <td>188.020004</td>\n",
       "      <td>93.050003</td>\n",
       "      <td>4.7093</td>\n",
       "      <td>107.720001</td>\n",
       "    </tr>\n",
       "  </tbody>\n",
       "</table>\n",
       "<p>3440 rows × 8 columns</p>\n",
       "</div>"
      ],
      "text/plain": [
       "                   ACN       BABA       MPW    SRG.MI        SNOW        DIS  \\\n",
       "Date                                                                           \n",
       "2010-05-17   30.876364        NaN  3.679935  1.540679         NaN  29.692446   \n",
       "2010-05-18   30.442150        NaN  3.653542  1.574221         NaN  29.284389   \n",
       "2010-05-19   30.426640        NaN  3.630920  1.577574         NaN  28.989202   \n",
       "2010-05-20   29.434124        NaN  3.374531  1.559686         NaN  27.773726   \n",
       "2010-05-21   29.573702        NaN  3.472562  1.544033         NaN  28.537739   \n",
       "...                ...        ...       ...       ...         ...        ...   \n",
       "2024-01-09  341.502960  72.019997  3.660000  4.821000  196.899994  89.669998   \n",
       "2024-01-10  344.073578  71.410004  3.640000  4.783000  197.399994  89.290001   \n",
       "2024-01-11  346.703979  72.379997  3.530000  4.751000  195.619995  89.449997   \n",
       "2024-01-12  355.033539  71.839996  3.430000  4.849000  191.259995  90.349998   \n",
       "2024-01-16  353.269989  69.459999  3.240000  4.870000  188.020004  93.050003   \n",
       "\n",
       "            EUNA.DE     VWCE.DE  \n",
       "Date                             \n",
       "2010-05-17      NaN         NaN  \n",
       "2010-05-18      NaN         NaN  \n",
       "2010-05-19      NaN         NaN  \n",
       "2010-05-20      NaN         NaN  \n",
       "2010-05-21      NaN         NaN  \n",
       "...             ...         ...  \n",
       "2024-01-09   4.7035  107.139999  \n",
       "2024-01-10   4.7031  107.080002  \n",
       "2024-01-11   4.7003  106.739998  \n",
       "2024-01-12   4.7212  107.540001  \n",
       "2024-01-16   4.7093  107.720001  \n",
       "\n",
       "[3440 rows x 8 columns]"
      ]
     },
     "execution_count": 2,
     "metadata": {},
     "output_type": "execute_result"
    }
   ],
   "source": [
    "matrice_prezzi"
   ]
  },
  {
   "cell_type": "markdown",
   "id": "4f142cd8",
   "metadata": {},
   "source": [
    "## Rendimenti:"
   ]
  },
  {
   "cell_type": "markdown",
   "id": "e0494005",
   "metadata": {},
   "source": [
    "#### Rendimenti annualizzati"
   ]
  },
  {
   "cell_type": "code",
   "execution_count": 3,
   "id": "cb46baf1",
   "metadata": {},
   "outputs": [],
   "source": [
    "from pypfopt.expected_returns import mean_historical_return"
   ]
  },
  {
   "cell_type": "code",
   "execution_count": 4,
   "id": "45dbd276",
   "metadata": {
    "scrolled": true
   },
   "outputs": [
    {
     "data": {
      "text/plain": [
       "ACN        0.208285\n",
       "BABA       0.054839\n",
       "MPW        0.047315\n",
       "SRG.MI     0.109725\n",
       "SNOW       0.119651\n",
       "DIS        0.117928\n",
       "EUNA.DE   -0.008698\n",
       "VWCE.DE    0.106007\n",
       "dtype: float64"
      ]
     },
     "execution_count": 4,
     "metadata": {},
     "output_type": "execute_result"
    }
   ],
   "source": [
    "mean_historical_return(matrice_prezzi, returns_data=False, compounding=False, frequency=252, log_returns=False)"
   ]
  },
  {
   "cell_type": "code",
   "execution_count": 5,
   "id": "f1150cfa",
   "metadata": {},
   "outputs": [
    {
     "data": {
      "text/plain": [
       "ACN        0.208285\n",
       "BABA       0.054839\n",
       "MPW        0.047315\n",
       "SRG.MI     0.109725\n",
       "SNOW       0.119651\n",
       "DIS        0.117928\n",
       "EUNA.DE   -0.008698\n",
       "VWCE.DE    0.106007\n",
       "dtype: float64"
      ]
     },
     "execution_count": 5,
     "metadata": {},
     "output_type": "execute_result"
    }
   ],
   "source": [
    "# rendimenti = (matrice_prezzi - matrice_prezzi.shift(1))/matrice_prezzi.shift(1)\n",
    "rendimenti = matrice_prezzi.pct_change().dropna(how=\"all\")\n",
    "rendimenti_annuali = rendimenti.mean() * 252\n",
    "rendimenti_annuali"
   ]
  },
  {
   "cell_type": "markdown",
   "id": "bb48755d",
   "metadata": {},
   "source": [
    "#### Rendimenti logaritmici annualizzati"
   ]
  },
  {
   "cell_type": "code",
   "execution_count": 6,
   "id": "4094cc00",
   "metadata": {
    "scrolled": true
   },
   "outputs": [
    {
     "data": {
      "text/plain": [
       "ACN        0.178594\n",
       "BABA      -0.030951\n",
       "MPW       -0.009330\n",
       "SRG.MI     0.084332\n",
       "SNOW      -0.090476\n",
       "DIS        0.083700\n",
       "EUNA.DE   -0.009663\n",
       "VWCE.DE    0.090791\n",
       "dtype: float64"
      ]
     },
     "execution_count": 6,
     "metadata": {},
     "output_type": "execute_result"
    }
   ],
   "source": [
    "mean_historical_return(matrice_prezzi, returns_data=False, compounding=False, frequency=252, log_returns=True)"
   ]
  },
  {
   "cell_type": "code",
   "execution_count": 7,
   "id": "2cc6c9c3",
   "metadata": {
    "scrolled": true
   },
   "outputs": [
    {
     "data": {
      "text/plain": [
       "ACN        0.178594\n",
       "BABA      -0.030951\n",
       "MPW       -0.009330\n",
       "SRG.MI     0.084332\n",
       "SNOW      -0.090476\n",
       "DIS        0.083700\n",
       "EUNA.DE   -0.009663\n",
       "VWCE.DE    0.090791\n",
       "dtype: float64"
      ]
     },
     "execution_count": 7,
     "metadata": {},
     "output_type": "execute_result"
    }
   ],
   "source": [
    "# returns_log = np.log(matrice_prezzi).diff()\n",
    "rendimenti_log = np.log(1 + matrice_prezzi.pct_change()).dropna(how=\"all\")\n",
    "rendimenti_log_annuali = rendimenti_log.mean() * 252\n",
    "rendimenti_log_annuali"
   ]
  },
  {
   "cell_type": "markdown",
   "id": "7b358fda",
   "metadata": {},
   "source": [
    "## Varianza/Volatilità e rendimento del portafoglio complessivo\n",
    "\n",
    "pesi trasposti * matrice di var e cov * pesi"
   ]
  },
  {
   "cell_type": "markdown",
   "id": "76435dfa",
   "metadata": {},
   "source": [
    "#### Matrice di varianza e covarianza"
   ]
  },
  {
   "cell_type": "code",
   "execution_count": 8,
   "id": "a3643c0b",
   "metadata": {},
   "outputs": [
    {
     "data": {
      "text/html": [
       "<div>\n",
       "<style scoped>\n",
       "    .dataframe tbody tr th:only-of-type {\n",
       "        vertical-align: middle;\n",
       "    }\n",
       "\n",
       "    .dataframe tbody tr th {\n",
       "        vertical-align: top;\n",
       "    }\n",
       "\n",
       "    .dataframe thead th {\n",
       "        text-align: right;\n",
       "    }\n",
       "</style>\n",
       "<table border=\"1\" class=\"dataframe\">\n",
       "  <thead>\n",
       "    <tr style=\"text-align: right;\">\n",
       "      <th></th>\n",
       "      <th>ACN</th>\n",
       "      <th>BABA</th>\n",
       "      <th>MPW</th>\n",
       "      <th>SRG.MI</th>\n",
       "      <th>SNOW</th>\n",
       "      <th>DIS</th>\n",
       "      <th>EUNA.DE</th>\n",
       "      <th>VWCE.DE</th>\n",
       "    </tr>\n",
       "  </thead>\n",
       "  <tbody>\n",
       "    <tr>\n",
       "      <th>ACN</th>\n",
       "      <td>0.059280</td>\n",
       "      <td>0.034423</td>\n",
       "      <td>0.032743</td>\n",
       "      <td>0.015760</td>\n",
       "      <td>0.061506</td>\n",
       "      <td>0.033490</td>\n",
       "      <td>0.000808</td>\n",
       "      <td>0.029143</td>\n",
       "    </tr>\n",
       "    <tr>\n",
       "      <th>BABA</th>\n",
       "      <td>0.034423</td>\n",
       "      <td>0.174960</td>\n",
       "      <td>0.029699</td>\n",
       "      <td>0.014634</td>\n",
       "      <td>0.120718</td>\n",
       "      <td>0.032592</td>\n",
       "      <td>-0.000048</td>\n",
       "      <td>0.029612</td>\n",
       "    </tr>\n",
       "    <tr>\n",
       "      <th>MPW</th>\n",
       "      <td>0.032743</td>\n",
       "      <td>0.029699</td>\n",
       "      <td>0.110875</td>\n",
       "      <td>0.018184</td>\n",
       "      <td>0.047498</td>\n",
       "      <td>0.033945</td>\n",
       "      <td>0.001966</td>\n",
       "      <td>0.031212</td>\n",
       "    </tr>\n",
       "    <tr>\n",
       "      <th>SRG.MI</th>\n",
       "      <td>0.015760</td>\n",
       "      <td>0.014634</td>\n",
       "      <td>0.018184</td>\n",
       "      <td>0.050044</td>\n",
       "      <td>0.005896</td>\n",
       "      <td>0.015089</td>\n",
       "      <td>0.001397</td>\n",
       "      <td>0.022485</td>\n",
       "    </tr>\n",
       "    <tr>\n",
       "      <th>SNOW</th>\n",
       "      <td>0.061506</td>\n",
       "      <td>0.120718</td>\n",
       "      <td>0.047498</td>\n",
       "      <td>0.005896</td>\n",
       "      <td>0.423121</td>\n",
       "      <td>0.063407</td>\n",
       "      <td>0.005865</td>\n",
       "      <td>0.022823</td>\n",
       "    </tr>\n",
       "    <tr>\n",
       "      <th>DIS</th>\n",
       "      <td>0.033490</td>\n",
       "      <td>0.032592</td>\n",
       "      <td>0.033945</td>\n",
       "      <td>0.015089</td>\n",
       "      <td>0.063407</td>\n",
       "      <td>0.068489</td>\n",
       "      <td>0.000813</td>\n",
       "      <td>0.029604</td>\n",
       "    </tr>\n",
       "    <tr>\n",
       "      <th>EUNA.DE</th>\n",
       "      <td>0.000808</td>\n",
       "      <td>-0.000048</td>\n",
       "      <td>0.001966</td>\n",
       "      <td>0.001397</td>\n",
       "      <td>0.005865</td>\n",
       "      <td>0.000813</td>\n",
       "      <td>0.001929</td>\n",
       "      <td>0.000012</td>\n",
       "    </tr>\n",
       "    <tr>\n",
       "      <th>VWCE.DE</th>\n",
       "      <td>0.029143</td>\n",
       "      <td>0.029612</td>\n",
       "      <td>0.031212</td>\n",
       "      <td>0.022485</td>\n",
       "      <td>0.022823</td>\n",
       "      <td>0.029604</td>\n",
       "      <td>0.000012</td>\n",
       "      <td>0.030218</td>\n",
       "    </tr>\n",
       "  </tbody>\n",
       "</table>\n",
       "</div>"
      ],
      "text/plain": [
       "              ACN      BABA       MPW    SRG.MI      SNOW       DIS   EUNA.DE  \\\n",
       "ACN      0.059280  0.034423  0.032743  0.015760  0.061506  0.033490  0.000808   \n",
       "BABA     0.034423  0.174960  0.029699  0.014634  0.120718  0.032592 -0.000048   \n",
       "MPW      0.032743  0.029699  0.110875  0.018184  0.047498  0.033945  0.001966   \n",
       "SRG.MI   0.015760  0.014634  0.018184  0.050044  0.005896  0.015089  0.001397   \n",
       "SNOW     0.061506  0.120718  0.047498  0.005896  0.423121  0.063407  0.005865   \n",
       "DIS      0.033490  0.032592  0.033945  0.015089  0.063407  0.068489  0.000813   \n",
       "EUNA.DE  0.000808 -0.000048  0.001966  0.001397  0.005865  0.000813  0.001929   \n",
       "VWCE.DE  0.029143  0.029612  0.031212  0.022485  0.022823  0.029604  0.000012   \n",
       "\n",
       "          VWCE.DE  \n",
       "ACN      0.029143  \n",
       "BABA     0.029612  \n",
       "MPW      0.031212  \n",
       "SRG.MI   0.022485  \n",
       "SNOW     0.022823  \n",
       "DIS      0.029604  \n",
       "EUNA.DE  0.000012  \n",
       "VWCE.DE  0.030218  "
      ]
     },
     "execution_count": 8,
     "metadata": {},
     "output_type": "execute_result"
    }
   ],
   "source": [
    "from pypfopt.risk_models import risk_matrix\n",
    "from pypfopt.risk_models import sample_cov\n",
    "S = risk_matrix(matrice_prezzi, method='sample_cov')\n",
    "S"
   ]
  },
  {
   "cell_type": "code",
   "execution_count": 9,
   "id": "fba9b9fc",
   "metadata": {
    "scrolled": true
   },
   "outputs": [
    {
     "data": {
      "text/html": [
       "<div>\n",
       "<style scoped>\n",
       "    .dataframe tbody tr th:only-of-type {\n",
       "        vertical-align: middle;\n",
       "    }\n",
       "\n",
       "    .dataframe tbody tr th {\n",
       "        vertical-align: top;\n",
       "    }\n",
       "\n",
       "    .dataframe thead th {\n",
       "        text-align: right;\n",
       "    }\n",
       "</style>\n",
       "<table border=\"1\" class=\"dataframe\">\n",
       "  <thead>\n",
       "    <tr style=\"text-align: right;\">\n",
       "      <th></th>\n",
       "      <th>ACN</th>\n",
       "      <th>BABA</th>\n",
       "      <th>MPW</th>\n",
       "      <th>SRG.MI</th>\n",
       "      <th>SNOW</th>\n",
       "      <th>DIS</th>\n",
       "      <th>EUNA.DE</th>\n",
       "      <th>VWCE.DE</th>\n",
       "    </tr>\n",
       "  </thead>\n",
       "  <tbody>\n",
       "    <tr>\n",
       "      <th>ACN</th>\n",
       "      <td>0.059280</td>\n",
       "      <td>0.034423</td>\n",
       "      <td>0.032743</td>\n",
       "      <td>0.015760</td>\n",
       "      <td>0.061506</td>\n",
       "      <td>0.033490</td>\n",
       "      <td>0.000808</td>\n",
       "      <td>0.029143</td>\n",
       "    </tr>\n",
       "    <tr>\n",
       "      <th>BABA</th>\n",
       "      <td>0.034423</td>\n",
       "      <td>0.174960</td>\n",
       "      <td>0.029699</td>\n",
       "      <td>0.014634</td>\n",
       "      <td>0.120718</td>\n",
       "      <td>0.032592</td>\n",
       "      <td>-0.000048</td>\n",
       "      <td>0.029612</td>\n",
       "    </tr>\n",
       "    <tr>\n",
       "      <th>MPW</th>\n",
       "      <td>0.032743</td>\n",
       "      <td>0.029699</td>\n",
       "      <td>0.110875</td>\n",
       "      <td>0.018184</td>\n",
       "      <td>0.047498</td>\n",
       "      <td>0.033945</td>\n",
       "      <td>0.001966</td>\n",
       "      <td>0.031212</td>\n",
       "    </tr>\n",
       "    <tr>\n",
       "      <th>SRG.MI</th>\n",
       "      <td>0.015760</td>\n",
       "      <td>0.014634</td>\n",
       "      <td>0.018184</td>\n",
       "      <td>0.050044</td>\n",
       "      <td>0.005896</td>\n",
       "      <td>0.015089</td>\n",
       "      <td>0.001397</td>\n",
       "      <td>0.022485</td>\n",
       "    </tr>\n",
       "    <tr>\n",
       "      <th>SNOW</th>\n",
       "      <td>0.061506</td>\n",
       "      <td>0.120718</td>\n",
       "      <td>0.047498</td>\n",
       "      <td>0.005896</td>\n",
       "      <td>0.423121</td>\n",
       "      <td>0.063407</td>\n",
       "      <td>0.005865</td>\n",
       "      <td>0.022823</td>\n",
       "    </tr>\n",
       "    <tr>\n",
       "      <th>DIS</th>\n",
       "      <td>0.033490</td>\n",
       "      <td>0.032592</td>\n",
       "      <td>0.033945</td>\n",
       "      <td>0.015089</td>\n",
       "      <td>0.063407</td>\n",
       "      <td>0.068489</td>\n",
       "      <td>0.000813</td>\n",
       "      <td>0.029604</td>\n",
       "    </tr>\n",
       "    <tr>\n",
       "      <th>EUNA.DE</th>\n",
       "      <td>0.000808</td>\n",
       "      <td>-0.000048</td>\n",
       "      <td>0.001966</td>\n",
       "      <td>0.001397</td>\n",
       "      <td>0.005865</td>\n",
       "      <td>0.000813</td>\n",
       "      <td>0.001929</td>\n",
       "      <td>0.000012</td>\n",
       "    </tr>\n",
       "    <tr>\n",
       "      <th>VWCE.DE</th>\n",
       "      <td>0.029143</td>\n",
       "      <td>0.029612</td>\n",
       "      <td>0.031212</td>\n",
       "      <td>0.022485</td>\n",
       "      <td>0.022823</td>\n",
       "      <td>0.029604</td>\n",
       "      <td>0.000012</td>\n",
       "      <td>0.030218</td>\n",
       "    </tr>\n",
       "  </tbody>\n",
       "</table>\n",
       "</div>"
      ],
      "text/plain": [
       "              ACN      BABA       MPW    SRG.MI      SNOW       DIS   EUNA.DE  \\\n",
       "ACN      0.059280  0.034423  0.032743  0.015760  0.061506  0.033490  0.000808   \n",
       "BABA     0.034423  0.174960  0.029699  0.014634  0.120718  0.032592 -0.000048   \n",
       "MPW      0.032743  0.029699  0.110875  0.018184  0.047498  0.033945  0.001966   \n",
       "SRG.MI   0.015760  0.014634  0.018184  0.050044  0.005896  0.015089  0.001397   \n",
       "SNOW     0.061506  0.120718  0.047498  0.005896  0.423121  0.063407  0.005865   \n",
       "DIS      0.033490  0.032592  0.033945  0.015089  0.063407  0.068489  0.000813   \n",
       "EUNA.DE  0.000808 -0.000048  0.001966  0.001397  0.005865  0.000813  0.001929   \n",
       "VWCE.DE  0.029143  0.029612  0.031212  0.022485  0.022823  0.029604  0.000012   \n",
       "\n",
       "          VWCE.DE  \n",
       "ACN      0.029143  \n",
       "BABA     0.029612  \n",
       "MPW      0.031212  \n",
       "SRG.MI   0.022485  \n",
       "SNOW     0.022823  \n",
       "DIS      0.029604  \n",
       "EUNA.DE  0.000012  \n",
       "VWCE.DE  0.030218  "
      ]
     },
     "execution_count": 9,
     "metadata": {},
     "output_type": "execute_result"
    }
   ],
   "source": [
    "S = rendimenti.cov()*252\n",
    "S"
   ]
  },
  {
   "cell_type": "markdown",
   "id": "dc77d194",
   "metadata": {},
   "source": [
    "#### Varianza e Volatilità complessiva con pesi attuali"
   ]
  },
  {
   "cell_type": "code",
   "execution_count": 10,
   "id": "db3093f3",
   "metadata": {},
   "outputs": [
    {
     "data": {
      "text/plain": [
       "array([0.21054, 0.05305, 0.0508 , 0.07904, 0.05645, 0.01335, 0.01525,\n",
       "       0.52155])"
      ]
     },
     "execution_count": 10,
     "metadata": {},
     "output_type": "execute_result"
    }
   ],
   "source": [
    "diz_pesi = {'ACN': 0.21054, 'BABA': 0.05305, 'MPW': 0.0508 , 'SRG.MI': 0.07904, 'SNOW': 0.05645, 'DIS':  0.01335, 'EUNA.DE': 0.01525, 'VWCE.DE':0.52155}\n",
    "pesi=np.array(list(diz_pesi.values()))\n",
    "pesi"
   ]
  },
  {
   "cell_type": "code",
   "execution_count": 11,
   "id": "67b7e2f2",
   "metadata": {},
   "outputs": [
    {
     "data": {
      "text/plain": [
       "0.03196518898419219"
      ]
     },
     "execution_count": 11,
     "metadata": {},
     "output_type": "execute_result"
    }
   ],
   "source": [
    "varianza_stocks = np.dot(pesi.T, np.dot(S, pesi ))\n",
    "varianza_stocks"
   ]
  },
  {
   "cell_type": "code",
   "execution_count": 12,
   "id": "fbfe6b1c",
   "metadata": {},
   "outputs": [
    {
     "data": {
      "text/plain": [
       "0.1787881119766977"
      ]
     },
     "execution_count": 12,
     "metadata": {},
     "output_type": "execute_result"
    }
   ],
   "source": [
    "volatilita_stocks = np.sqrt(varianza_stocks)\n",
    "volatilita_stocks"
   ]
  },
  {
   "cell_type": "markdown",
   "id": "21f0620d",
   "metadata": {},
   "source": [
    "#### Rendimento complessivo con pesi attuali"
   ]
  },
  {
   "cell_type": "code",
   "execution_count": 13,
   "id": "29e24b71",
   "metadata": {
    "scrolled": true
   },
   "outputs": [
    {
     "data": {
      "text/plain": [
       "0.12132190760830358"
      ]
     },
     "execution_count": 13,
     "metadata": {},
     "output_type": "execute_result"
    }
   ],
   "source": [
    "rendimenti_stocks = (np.dot(rendimenti.mean() * 252, pesi))\n",
    "rendimenti_stocks"
   ]
  },
  {
   "cell_type": "markdown",
   "id": "8bf42473",
   "metadata": {},
   "source": [
    "## Frontiera Efficiente"
   ]
  },
  {
   "cell_type": "code",
   "execution_count": 14,
   "id": "2fe8f1d0",
   "metadata": {},
   "outputs": [],
   "source": [
    "from pypfopt.risk_models import CovarianceShrinkage\n",
    "# mu  --> Rendimenti annualizzati\n",
    "# S . --> Matrice di Varianza e Covarianza\n",
    "mu = mean_historical_return(matrice_prezzi, returns_data=False, compounding=False, frequency=252, log_returns=False)\n",
    "S = CovarianceShrinkage(matrice_prezzi).ledoit_wolf()"
   ]
  },
  {
   "cell_type": "code",
   "execution_count": 15,
   "id": "ad1184c9",
   "metadata": {},
   "outputs": [
    {
     "data": {
      "text/plain": [
       "ACN        0.208285\n",
       "BABA       0.054839\n",
       "MPW        0.047315\n",
       "SRG.MI     0.109725\n",
       "SNOW       0.119651\n",
       "DIS        0.117928\n",
       "EUNA.DE   -0.008698\n",
       "VWCE.DE    0.106007\n",
       "dtype: float64"
      ]
     },
     "execution_count": 15,
     "metadata": {},
     "output_type": "execute_result"
    }
   ],
   "source": [
    "mu"
   ]
  },
  {
   "cell_type": "code",
   "execution_count": 16,
   "id": "f5e9882e",
   "metadata": {},
   "outputs": [
    {
     "data": {
      "text/html": [
       "<div>\n",
       "<style scoped>\n",
       "    .dataframe tbody tr th:only-of-type {\n",
       "        vertical-align: middle;\n",
       "    }\n",
       "\n",
       "    .dataframe tbody tr th {\n",
       "        vertical-align: top;\n",
       "    }\n",
       "\n",
       "    .dataframe thead th {\n",
       "        text-align: right;\n",
       "    }\n",
       "</style>\n",
       "<table border=\"1\" class=\"dataframe\">\n",
       "  <thead>\n",
       "    <tr style=\"text-align: right;\">\n",
       "      <th></th>\n",
       "      <th>ACN</th>\n",
       "      <th>BABA</th>\n",
       "      <th>MPW</th>\n",
       "      <th>SRG.MI</th>\n",
       "      <th>SNOW</th>\n",
       "      <th>DIS</th>\n",
       "      <th>EUNA.DE</th>\n",
       "      <th>VWCE.DE</th>\n",
       "    </tr>\n",
       "  </thead>\n",
       "  <tbody>\n",
       "    <tr>\n",
       "      <th>ACN</th>\n",
       "      <td>0.059375</td>\n",
       "      <td>0.023016</td>\n",
       "      <td>0.032111</td>\n",
       "      <td>0.015455</td>\n",
       "      <td>0.014662</td>\n",
       "      <td>0.032843</td>\n",
       "      <td>0.000356</td>\n",
       "      <td>0.009333</td>\n",
       "    </tr>\n",
       "    <tr>\n",
       "      <th>BABA</th>\n",
       "      <td>0.023016</td>\n",
       "      <td>0.118225</td>\n",
       "      <td>0.019849</td>\n",
       "      <td>0.009783</td>\n",
       "      <td>0.028752</td>\n",
       "      <td>0.021782</td>\n",
       "      <td>-0.000020</td>\n",
       "      <td>0.009469</td>\n",
       "    </tr>\n",
       "    <tr>\n",
       "      <th>MPW</th>\n",
       "      <td>0.032111</td>\n",
       "      <td>0.019849</td>\n",
       "      <td>0.109974</td>\n",
       "      <td>0.017833</td>\n",
       "      <td>0.011283</td>\n",
       "      <td>0.033289</td>\n",
       "      <td>0.000868</td>\n",
       "      <td>0.009965</td>\n",
       "    </tr>\n",
       "    <tr>\n",
       "      <th>SRG.MI</th>\n",
       "      <td>0.015455</td>\n",
       "      <td>0.009783</td>\n",
       "      <td>0.017833</td>\n",
       "      <td>0.050318</td>\n",
       "      <td>0.001404</td>\n",
       "      <td>0.014798</td>\n",
       "      <td>0.000615</td>\n",
       "      <td>0.007201</td>\n",
       "    </tr>\n",
       "    <tr>\n",
       "      <th>SNOW</th>\n",
       "      <td>0.014662</td>\n",
       "      <td>0.028752</td>\n",
       "      <td>0.011283</td>\n",
       "      <td>0.001404</td>\n",
       "      <td>0.102152</td>\n",
       "      <td>0.015101</td>\n",
       "      <td>0.001395</td>\n",
       "      <td>0.005452</td>\n",
       "    </tr>\n",
       "    <tr>\n",
       "      <th>DIS</th>\n",
       "      <td>0.032843</td>\n",
       "      <td>0.021782</td>\n",
       "      <td>0.033289</td>\n",
       "      <td>0.014798</td>\n",
       "      <td>0.015101</td>\n",
       "      <td>0.068406</td>\n",
       "      <td>0.000359</td>\n",
       "      <td>0.009462</td>\n",
       "    </tr>\n",
       "    <tr>\n",
       "      <th>EUNA.DE</th>\n",
       "      <td>0.000356</td>\n",
       "      <td>-0.000020</td>\n",
       "      <td>0.000868</td>\n",
       "      <td>0.000615</td>\n",
       "      <td>0.001395</td>\n",
       "      <td>0.000359</td>\n",
       "      <td>0.002090</td>\n",
       "      <td>0.000002</td>\n",
       "    </tr>\n",
       "    <tr>\n",
       "      <th>VWCE.DE</th>\n",
       "      <td>0.009333</td>\n",
       "      <td>0.009469</td>\n",
       "      <td>0.009965</td>\n",
       "      <td>0.007201</td>\n",
       "      <td>0.005452</td>\n",
       "      <td>0.009462</td>\n",
       "      <td>0.000002</td>\n",
       "      <td>0.010930</td>\n",
       "    </tr>\n",
       "  </tbody>\n",
       "</table>\n",
       "</div>"
      ],
      "text/plain": [
       "              ACN      BABA       MPW    SRG.MI      SNOW       DIS   EUNA.DE  \\\n",
       "ACN      0.059375  0.023016  0.032111  0.015455  0.014662  0.032843  0.000356   \n",
       "BABA     0.023016  0.118225  0.019849  0.009783  0.028752  0.021782 -0.000020   \n",
       "MPW      0.032111  0.019849  0.109974  0.017833  0.011283  0.033289  0.000868   \n",
       "SRG.MI   0.015455  0.009783  0.017833  0.050318  0.001404  0.014798  0.000615   \n",
       "SNOW     0.014662  0.028752  0.011283  0.001404  0.102152  0.015101  0.001395   \n",
       "DIS      0.032843  0.021782  0.033289  0.014798  0.015101  0.068406  0.000359   \n",
       "EUNA.DE  0.000356 -0.000020  0.000868  0.000615  0.001395  0.000359  0.002090   \n",
       "VWCE.DE  0.009333  0.009469  0.009965  0.007201  0.005452  0.009462  0.000002   \n",
       "\n",
       "          VWCE.DE  \n",
       "ACN      0.009333  \n",
       "BABA     0.009469  \n",
       "MPW      0.009965  \n",
       "SRG.MI   0.007201  \n",
       "SNOW     0.005452  \n",
       "DIS      0.009462  \n",
       "EUNA.DE  0.000002  \n",
       "VWCE.DE  0.010930  "
      ]
     },
     "execution_count": 16,
     "metadata": {},
     "output_type": "execute_result"
    }
   ],
   "source": [
    "S"
   ]
  },
  {
   "cell_type": "code",
   "execution_count": 17,
   "id": "68435e08",
   "metadata": {},
   "outputs": [
    {
     "name": "stdout",
     "output_type": "stream",
     "text": [
      "Expected annual return: 13.2%\n",
      "Annual volatility: 11.5%\n",
      "Sharpe Ratio: 0.97\n"
     ]
    }
   ],
   "source": [
    "from pypfopt.efficient_frontier import EfficientFrontier\n",
    "\n",
    "ef = EfficientFrontier(mu, S)\n",
    "weights = ef.max_sharpe()\n",
    "# weights = ef.min_volatility()\n",
    "# weights = ef.efficient_risk(0.1)\n",
    "# weights = ef.efficient_return(0.10)\n",
    "ef.portfolio_performance(verbose=True);"
   ]
  },
  {
   "cell_type": "code",
   "execution_count": 18,
   "id": "1e49193c",
   "metadata": {
    "scrolled": true
   },
   "outputs": [
    {
     "data": {
      "text/plain": [
       "OrderedDict([('ACN', 0.2487657115409111),\n",
       "             ('BABA', 0.0),\n",
       "             ('MPW', 0.0),\n",
       "             ('SRG.MI', 0.0369586488728222),\n",
       "             ('SNOW', 0.0431874595310326),\n",
       "             ('DIS', 0.0),\n",
       "             ('EUNA.DE', 0.0),\n",
       "             ('VWCE.DE', 0.6710881800552341)])"
      ]
     },
     "execution_count": 18,
     "metadata": {},
     "output_type": "execute_result"
    }
   ],
   "source": [
    "weights"
   ]
  },
  {
   "cell_type": "code",
   "execution_count": 19,
   "id": "448ba7fa",
   "metadata": {},
   "outputs": [
    {
     "data": {
      "text/plain": [
       "0.9757441261392865"
      ]
     },
     "execution_count": 19,
     "metadata": {},
     "output_type": "execute_result"
    }
   ],
   "source": [
    "# Formula Sharpe Ratio =  (rendimento - risk_free_rate) / volatilità\n",
    "(0.13245817323083192-0.02)/0.11525375374361067"
   ]
  },
  {
   "cell_type": "markdown",
   "id": "c4a23836",
   "metadata": {},
   "source": [
    "## Plotting"
   ]
  },
  {
   "cell_type": "markdown",
   "id": "75feec11",
   "metadata": {},
   "source": [
    "Grafico principale generando random portfolios"
   ]
  },
  {
   "cell_type": "code",
   "execution_count": 20,
   "id": "e562b80c",
   "metadata": {
    "scrolled": false
   },
   "outputs": [
    {
     "name": "stderr",
     "output_type": "stream",
     "text": [
      "C:\\Users\\Libero\\miniconda3\\envs\\finance\\lib\\site-packages\\cvxpy\\reductions\\solvers\\solving_chain.py:336: FutureWarning: \n",
      "    Your problem is being solved with the ECOS solver by default. Starting in \n",
      "    CVXPY 1.5.0, Clarabel will be used as the default solver instead. To continue \n",
      "    using ECOS, specify the ECOS solver explicitly using the ``solver=cp.ECOS`` \n",
      "    argument to the ``problem.solve`` method.\n",
      "    \n",
      "  warnings.warn(ECOS_DEPRECATION_MSG, FutureWarning)\n"
     ]
    },
    {
     "data": {
      "image/png": "[encoded data removed]",
      "text/plain": [
       "<Figure size 640x480 with 1 Axes>"
      ]
     },
     "metadata": {},
     "output_type": "display_data"
    },
    {
     "name": "stdout",
     "output_type": "stream",
     "text": [
      "Pesi Max Sharpe:\n",
      "ACN: 24.88% | BABA: 0.0% | MPW: 0.0% | SRG.MI: 3.7% | SNOW: 4.32% | DIS: 0.0% | EUNA.DE: 0.0% | VWCE.DE: 67.11% | \n",
      "Expected annual return: 13.2%\n",
      "Annual volatility: 11.5%\n",
      "Sharpe Ratio: 0.97\n",
      "\n",
      "\n",
      "Pesi Portfolio Actual:\n",
      "ACN: 21.05% | BABA: 5.3% | MPW: 5.08% | SRG.MI: 7.9% | SNOW: 5.64% | DIS: 1.33% | EUNA.DE: 1.52% | VWCE.DE: 52.15% | \n",
      "Expected annual return: 12.1%\n",
      "Annual volatility: 11.8%\n",
      "Sharpe Ratio: 0.86\n",
      "\n",
      "\n",
      "Pesi Min Volatility:\n",
      "ACN: 0.0% | BABA: 0.22% | MPW: 0.0% | SRG.MI: 0.17% | SNOW: 0.0% | DIS: 0.0% | EUNA.DE: 83.88% | VWCE.DE: 15.73% | \n",
      "Expected annual return: 1.0%\n",
      "Annual volatility: 4.2%\n",
      "Sharpe Ratio: -0.25\n",
      "\n",
      "\n",
      "Pesi Efficient Risk:\n",
      "ACN: 16.7% | BABA: 0.0% | MPW: 0.0% | SRG.MI: 4.32% | SNOW: 4.09% | DIS: 0.0% | EUNA.DE: 8.41% | VWCE.DE: 66.47% | \n",
      "Expected annual return: 11.4%\n",
      "Annual volatility: 10.0%\n",
      "Sharpe Ratio: 0.94\n",
      "\n",
      "\n",
      "Pesi Efficient Return:\n",
      "ACN: 62.19% | BABA: 0.0% | MPW: 0.0% | SRG.MI: 0.0% | SNOW: 2.81% | DIS: 0.0% | EUNA.DE: 0.0% | VWCE.DE: 35.0% | \n",
      "Expected annual return: 17.0%\n",
      "Annual volatility: 17.0%\n",
      "Sharpe Ratio: 0.88\n"
     ]
    }
   ],
   "source": [
    "import matplotlib.pyplot as plt\n",
    "from pypfopt import plotting\n",
    "\n",
    "ef = EfficientFrontier(mu, S, weight_bounds=(0, 1))\n",
    "fig, ax = plt.subplots()\n",
    "\n",
    "ef_max_sharpe = ef.deepcopy()\n",
    "ef_min_volatility = ef.deepcopy()\n",
    "ef_efficient_risk = ef.deepcopy()\n",
    "ef_efficient_return = ef.deepcopy()\n",
    "plotting.plot_efficient_frontier(ef, ax=ax, show_assets=False)\n",
    "\n",
    "# Find the tangency portfolio.\n",
    "# Trova il massimo di sharpe. il calcolo usa la tasa libre de riesgo\n",
    "weights_max_sharpe = ef_max_sharpe.max_sharpe()\n",
    "ret_tangent, std_tangent, _ = ef_max_sharpe.portfolio_performance()\n",
    "ax.scatter(std_tangent, ret_tangent, marker=\"*\", s=100, c=\"r\", label=\"Max Sharpe\")\n",
    "\n",
    "# Trovo il portafoglio con la minore volatilità\n",
    "weights_min_volatility = ef_min_volatility.min_volatility()\n",
    "ret_tangent, std_tangent, _  = ef_min_volatility.portfolio_performance()\n",
    "ax.scatter(std_tangent, ret_tangent, marker=\"*\", s=100, c=\"g\", label=\"Min Volatility\")\n",
    "\n",
    "#Trovo il portafoglio con un livello di rischio\n",
    "weights_efficient_risk = ef_efficient_risk.efficient_risk(0.10)\n",
    "ret_tangent, std_tangent, _  = ef_efficient_risk.portfolio_performance()\n",
    "ax.scatter(std_tangent, ret_tangent, marker=\"*\", s=100, c=\"y\", label=\"Efficient Risk\")\n",
    "\n",
    "#Trovo il portafoglio con un livello di rendimento\n",
    "weights_efficient_return = ef_efficient_return.efficient_return(0.17)\n",
    "ret_tangent, std_tangent, _  = ef_efficient_return.portfolio_performance()\n",
    "ax.scatter(std_tangent, ret_tangent, marker=\"*\", s=100, c=\"orange\", label=\"Efficient Return\")\n",
    "\n",
    "# Portafoglio attuale\n",
    "diz_pesi = {'ACN': 0.21054, 'BABA': 0.05305, 'MPW': 0.0508 , 'SRG.MI': 0.07904, 'SNOW': 0.05645, 'DIS':  0.01335, 'EUNA.DE': 0.01525, 'VWCE.DE':0.52155}\n",
    "pesi=np.array(list(diz_pesi.values()))\n",
    "\n",
    "ef = EfficientFrontier(mu, S, weight_bounds=(0, 1))\n",
    "ef.add_constraint(lambda x: x == pesi)#assegno i pesi veri\n",
    "ef_actual = ef.deepcopy()\n",
    "weights_actual = ef_actual.max_sharpe()#trovo il max_sharpe per i pesi attuali.\n",
    "ret_tangent, std_tangent, _ = ef_actual.portfolio_performance() #le performance coincidono con rendimenti_stocks e volatilita_stocks\n",
    "ax.scatter(std_tangent, ret_tangent, marker=\"*\", s=100, c=\"b\", label=\"Actual\")\n",
    "\n",
    "# Generate random portfolios\n",
    "n_samples = 1000\n",
    "w = np.random.dirichlet(np.ones(ef.n_assets), n_samples)\n",
    "rets = w.dot(ef.expected_returns)\n",
    "stds = np.sqrt(np.diag(w @ ef.cov_matrix @ w.T))\n",
    "sharpes = rets / stds # !!! porque no resta la taso libre de riesgo?\n",
    "ax.scatter(stds, rets, marker=\".\", c=sharpes, cmap=\"viridis_r\")\n",
    "\n",
    "# Output\n",
    "ax.set_title(\"Efficient Frontier with random portfolios\")\n",
    "ax.legend()\n",
    "plt.tight_layout()\n",
    "plt.savefig(\"ef_scatter.png\", dpi=200)\n",
    "plt.show()\n",
    "\n",
    "print(\"Pesi Max Sharpe:\")\n",
    "for chiave, valore in weights_max_sharpe.items():\n",
    "    print(f\"{chiave}: {round(valore * 100, 2)}%\", end=\" | \")\n",
    "print()\n",
    "ef_max_sharpe.portfolio_performance(verbose=True);\n",
    "\n",
    "print(\"\\n\\nPesi Portfolio Actual:\")\n",
    "for chiave, valore in weights_actual.items():\n",
    "    print(f\"{chiave}: {round(valore * 100, 2)}%\", end=\" | \")\n",
    "print()\n",
    "ef_actual.portfolio_performance(verbose=True)\n",
    "\n",
    "print(\"\\n\\nPesi Min Volatility:\")\n",
    "for chiave, valore in weights_min_volatility.items():\n",
    "    print(f\"{chiave}: {round(valore * 100, 2)}%\", end=\" | \")\n",
    "print()\n",
    "ef_min_volatility.portfolio_performance(verbose=True);\n",
    "\n",
    "print(\"\\n\\nPesi Efficient Risk:\")\n",
    "for chiave, valore in weights_efficient_risk.items():\n",
    "    print(f\"{chiave}: {round(valore * 100, 2)}%\", end=\" | \")\n",
    "print()\n",
    "ef_efficient_risk.portfolio_performance(verbose=True);\n",
    "\n",
    "print(\"\\n\\nPesi Efficient Return:\")\n",
    "for chiave, valore in weights_efficient_return.items():\n",
    "    print(f\"{chiave}: {round(valore * 100, 2)}%\", end=\" | \")\n",
    "print()\n",
    "ef_efficient_return.portfolio_performance(verbose=True);"
   ]
  },
  {
   "cell_type": "code",
   "execution_count": null,
   "id": "c1c2fc81",
   "metadata": {},
   "outputs": [],
   "source": []
  },
  {
   "cell_type": "code",
   "execution_count": null,
   "id": "0c49fa14",
   "metadata": {},
   "outputs": [],
   "source": []
  },
  {
   "cell_type": "code",
   "execution_count": 21,
   "id": "f3a2b305",
   "metadata": {},
   "outputs": [
    {
     "name": "stdout",
     "output_type": "stream",
     "text": [
      "{'ACN': 4, 'BABA': 3, 'MPW': 94, 'SRG.MI': 99, 'SNOW': 2, 'DIS': 1, 'EUNA.DE': 19, 'VWCE.DE': 30}\n"
     ]
    },
    {
     "name": "stderr",
     "output_type": "stream",
     "text": [
      "C:\\Users\\Libero\\miniconda3\\envs\\finance\\lib\\site-packages\\cvxpy\\problems\\problem.py:1403: UserWarning: Solution may be inaccurate. Try another solver, adjusting the solver settings, or solve with verbose=True for more information.\n",
      "  warnings.warn(\n"
     ]
    }
   ],
   "source": [
    "from pypfopt.discrete_allocation import DiscreteAllocation, get_latest_prices\n",
    "\n",
    "latest_prices = get_latest_prices(matrice_prezzi)\n",
    "da = DiscreteAllocation(weights_actual, latest_prices, total_portfolio_value=6200)\n",
    "allocation, leftover = da.lp_portfolio()\n",
    "print(allocation)"
   ]
  }
 ],
 "metadata": {
  "kernelspec": {
   "display_name": "Python 3 (ipykernel)",
   "language": "python",
   "name": "python3"
  },
  "language_info": {
   "codemirror_mode": {
    "name": "ipython",
    "version": 3
   },
   "file_extension": ".py",
   "mimetype": "text/x-python",
   "name": "python",
   "nbconvert_exporter": "python",
   "pygments_lexer": "ipython3",
   "version": "3.10.9"
  },
  "toc": {
   "base_numbering": 1,
   "nav_menu": {},
   "number_sections": true,
   "sideBar": true,
   "skip_h1_title": false,
   "title_cell": "Table of Contents",
   "title_sidebar": "Contents",
   "toc_cell": false,
   "toc_position": {},
   "toc_section_display": true,
   "toc_window_display": true
  },
  "varInspector": {
   "cols": {
    "lenName": 16,
    "lenType": 16,
    "lenVar": 40
   },
   "kernels_config": {
    "python": {
     "delete_cmd_postfix": "",
     "delete_cmd_prefix": "del ",
     "library": "var_list.py",
     "varRefreshCmd": "print(var_dic_list())"
    },
    "r": {
     "delete_cmd_postfix": ") ",
     "delete_cmd_prefix": "rm(",
     "library": "var_list.r",
     "varRefreshCmd": "cat(var_dic_list()) "
    }
   },
   "types_to_exclude": [
    "module",
    "function",
    "builtin_function_or_method",
    "instance",
    "_Feature"
   ],
   "window_display": false
  }
 },
 "nbformat": 4,
 "nbformat_minor": 5
}
