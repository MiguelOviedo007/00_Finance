{
 "cells": [
  {
   "cell_type": "markdown",
   "id": "d1b51a32",
   "metadata": {},
   "source": [
    "## Estrazione dati"
   ]
  },
  {
   "cell_type": "code",
   "execution_count": 1,
   "id": "e0ad1ef7",
   "metadata": {
    "scrolled": true
   },
   "outputs": [
    {
     "name": "stdout",
     "output_type": "stream",
     "text": [
      "[*********************100%***********************]  1 of 1 completed\n",
      "[*********************100%***********************]  1 of 1 completed\n",
      "[*********************100%***********************]  1 of 1 completed\n",
      "[*********************100%***********************]  1 of 1 completed\n",
      "[*********************100%***********************]  1 of 1 completed\n",
      "[*********************100%***********************]  1 of 1 completed\n",
      "[*********************100%***********************]  1 of 1 completed\n",
      "[*********************100%***********************]  1 of 1 completed\n",
      "[*********************100%***********************]  1 of 1 completed\n",
      "[*********************100%***********************]  1 of 1 completed\n",
      "[*********************100%***********************]  1 of 1 completed\n",
      "[*********************100%***********************]  1 of 1 completed\n"
     ]
    }
   ],
   "source": [
    "import numpy as np\n",
    "import pandas as pd\n",
    "from pandas_datareader import data\n",
    "import yfinance as yf\n",
    "from datetime import datetime\n",
    "yf.pdr_override()\n",
    "start_date = datetime(2010, 2, 12)  # Data di inizio\n",
    "end_date = datetime(2024, 1, 17)\n",
    "\n",
    "actual_tickers = ['ACN', 'BABA', 'MPW', 'SRG.MI', \"SNOW\", 'DIS' , \"EUNA.DE\", \"VWCE.DE\"]\n",
    "n_actual_tickers = len(actual_tickers)\n",
    "\n",
    "new_tickers = [\"TSM\", \"NTES\",\"VLO\", \"CHK\"]\n",
    "# new_tickers = [\"UCG.MI\", \"TSM\", \"AMAT\", \"EOG\", \"NTES\",\"VLO\", \"NUE\", \"STM\", \"TS\", \"STLD\", \"CF\", \"CHK\"]\n",
    "\n",
    "tickers = actual_tickers + new_tickers\n",
    "total_tickers = len(tickers)\n",
    "matrice_prezzi = pd.DataFrame()\n",
    "for t in tickers:\n",
    "    matrice_prezzi[t] = data.get_data_yahoo(t, start_date, end_date)['Adj Close']"
   ]
  },
  {
   "cell_type": "markdown",
   "id": "e0494005",
   "metadata": {},
   "source": [
    "#### Rendimenti annualizzati"
   ]
  },
  {
   "cell_type": "code",
   "execution_count": 2,
   "id": "cb46baf1",
   "metadata": {},
   "outputs": [],
   "source": [
    "from pypfopt.expected_returns import mean_historical_return"
   ]
  },
  {
   "cell_type": "code",
   "execution_count": 3,
   "id": "45dbd276",
   "metadata": {
    "scrolled": false
   },
   "outputs": [
    {
     "data": {
      "text/plain": [
       "ACN        0.204259\n",
       "BABA       0.054839\n",
       "MPW        0.047366\n",
       "SRG.MI     0.107787\n",
       "SNOW       0.119651\n",
       "DIS        0.125534\n",
       "EUNA.DE   -0.008698\n",
       "VWCE.DE    0.106007\n",
       "TSM        0.243059\n",
       "NTES       0.275518\n",
       "VLO        0.259613\n",
       "CHK        0.325066\n",
       "dtype: float64"
      ]
     },
     "execution_count": 3,
     "metadata": {},
     "output_type": "execute_result"
    }
   ],
   "source": [
    "rendimenti = mean_historical_return(matrice_prezzi, returns_data=False, compounding=False, frequency=252, log_returns=False)\n",
    "rendimenti"
   ]
  },
  {
   "cell_type": "markdown",
   "id": "1ef3f93e",
   "metadata": {},
   "source": [
    "#### Matrice di varianza e covarianza"
   ]
  },
  {
   "cell_type": "code",
   "execution_count": 4,
   "id": "a3643c0b",
   "metadata": {},
   "outputs": [
    {
     "data": {
      "text/html": [
       "<div>\n",
       "<style scoped>\n",
       "    .dataframe tbody tr th:only-of-type {\n",
       "        vertical-align: middle;\n",
       "    }\n",
       "\n",
       "    .dataframe tbody tr th {\n",
       "        vertical-align: top;\n",
       "    }\n",
       "\n",
       "    .dataframe thead th {\n",
       "        text-align: right;\n",
       "    }\n",
       "</style>\n",
       "<table border=\"1\" class=\"dataframe\">\n",
       "  <thead>\n",
       "    <tr style=\"text-align: right;\">\n",
       "      <th></th>\n",
       "      <th>ACN</th>\n",
       "      <th>BABA</th>\n",
       "      <th>MPW</th>\n",
       "      <th>SRG.MI</th>\n",
       "      <th>SNOW</th>\n",
       "      <th>DIS</th>\n",
       "      <th>EUNA.DE</th>\n",
       "      <th>VWCE.DE</th>\n",
       "      <th>TSM</th>\n",
       "      <th>NTES</th>\n",
       "      <th>VLO</th>\n",
       "      <th>CHK</th>\n",
       "    </tr>\n",
       "  </thead>\n",
       "  <tbody>\n",
       "    <tr>\n",
       "      <th>ACN</th>\n",
       "      <td>0.058897</td>\n",
       "      <td>0.034423</td>\n",
       "      <td>0.032685</td>\n",
       "      <td>0.015777</td>\n",
       "      <td>0.061506</td>\n",
       "      <td>0.033337</td>\n",
       "      <td>0.000808</td>\n",
       "      <td>0.029143</td>\n",
       "      <td>0.032494</td>\n",
       "      <td>0.029556</td>\n",
       "      <td>0.037263</td>\n",
       "      <td>0.024846</td>\n",
       "    </tr>\n",
       "    <tr>\n",
       "      <th>BABA</th>\n",
       "      <td>0.034423</td>\n",
       "      <td>0.174960</td>\n",
       "      <td>0.029699</td>\n",
       "      <td>0.014634</td>\n",
       "      <td>0.120718</td>\n",
       "      <td>0.032592</td>\n",
       "      <td>-0.000048</td>\n",
       "      <td>0.029612</td>\n",
       "      <td>0.048716</td>\n",
       "      <td>0.098891</td>\n",
       "      <td>0.034486</td>\n",
       "      <td>0.026829</td>\n",
       "    </tr>\n",
       "    <tr>\n",
       "      <th>MPW</th>\n",
       "      <td>0.032685</td>\n",
       "      <td>0.029699</td>\n",
       "      <td>0.111119</td>\n",
       "      <td>0.018401</td>\n",
       "      <td>0.047498</td>\n",
       "      <td>0.034312</td>\n",
       "      <td>0.001966</td>\n",
       "      <td>0.031212</td>\n",
       "      <td>0.029816</td>\n",
       "      <td>0.027296</td>\n",
       "      <td>0.045140</td>\n",
       "      <td>0.028308</td>\n",
       "    </tr>\n",
       "    <tr>\n",
       "      <th>SRG.MI</th>\n",
       "      <td>0.015777</td>\n",
       "      <td>0.014634</td>\n",
       "      <td>0.018401</td>\n",
       "      <td>0.049577</td>\n",
       "      <td>0.005896</td>\n",
       "      <td>0.015225</td>\n",
       "      <td>0.001397</td>\n",
       "      <td>0.022485</td>\n",
       "      <td>0.012672</td>\n",
       "      <td>0.016242</td>\n",
       "      <td>0.018254</td>\n",
       "      <td>0.010305</td>\n",
       "    </tr>\n",
       "    <tr>\n",
       "      <th>SNOW</th>\n",
       "      <td>0.061506</td>\n",
       "      <td>0.120718</td>\n",
       "      <td>0.047498</td>\n",
       "      <td>0.005896</td>\n",
       "      <td>0.423121</td>\n",
       "      <td>0.063407</td>\n",
       "      <td>0.005865</td>\n",
       "      <td>0.022823</td>\n",
       "      <td>0.088036</td>\n",
       "      <td>0.089924</td>\n",
       "      <td>0.017456</td>\n",
       "      <td>0.036097</td>\n",
       "    </tr>\n",
       "    <tr>\n",
       "      <th>DIS</th>\n",
       "      <td>0.033337</td>\n",
       "      <td>0.032592</td>\n",
       "      <td>0.034312</td>\n",
       "      <td>0.015225</td>\n",
       "      <td>0.063407</td>\n",
       "      <td>0.068239</td>\n",
       "      <td>0.000813</td>\n",
       "      <td>0.029604</td>\n",
       "      <td>0.030826</td>\n",
       "      <td>0.028432</td>\n",
       "      <td>0.043491</td>\n",
       "      <td>0.032825</td>\n",
       "    </tr>\n",
       "    <tr>\n",
       "      <th>EUNA.DE</th>\n",
       "      <td>0.000808</td>\n",
       "      <td>-0.000048</td>\n",
       "      <td>0.001966</td>\n",
       "      <td>0.001397</td>\n",
       "      <td>0.005865</td>\n",
       "      <td>0.000813</td>\n",
       "      <td>0.001929</td>\n",
       "      <td>0.000012</td>\n",
       "      <td>0.000158</td>\n",
       "      <td>0.000013</td>\n",
       "      <td>-0.001186</td>\n",
       "      <td>0.000145</td>\n",
       "    </tr>\n",
       "    <tr>\n",
       "      <th>VWCE.DE</th>\n",
       "      <td>0.029143</td>\n",
       "      <td>0.029612</td>\n",
       "      <td>0.031212</td>\n",
       "      <td>0.022485</td>\n",
       "      <td>0.022823</td>\n",
       "      <td>0.029604</td>\n",
       "      <td>0.000012</td>\n",
       "      <td>0.030218</td>\n",
       "      <td>0.025640</td>\n",
       "      <td>0.025823</td>\n",
       "      <td>0.036853</td>\n",
       "      <td>0.014423</td>\n",
       "    </tr>\n",
       "    <tr>\n",
       "      <th>TSM</th>\n",
       "      <td>0.032494</td>\n",
       "      <td>0.048716</td>\n",
       "      <td>0.029816</td>\n",
       "      <td>0.012672</td>\n",
       "      <td>0.088036</td>\n",
       "      <td>0.030826</td>\n",
       "      <td>0.000158</td>\n",
       "      <td>0.025640</td>\n",
       "      <td>0.085001</td>\n",
       "      <td>0.043159</td>\n",
       "      <td>0.038414</td>\n",
       "      <td>0.025140</td>\n",
       "    </tr>\n",
       "    <tr>\n",
       "      <th>NTES</th>\n",
       "      <td>0.029556</td>\n",
       "      <td>0.098891</td>\n",
       "      <td>0.027296</td>\n",
       "      <td>0.016242</td>\n",
       "      <td>0.089924</td>\n",
       "      <td>0.028432</td>\n",
       "      <td>0.000013</td>\n",
       "      <td>0.025823</td>\n",
       "      <td>0.043159</td>\n",
       "      <td>0.166627</td>\n",
       "      <td>0.031005</td>\n",
       "      <td>0.025726</td>\n",
       "    </tr>\n",
       "    <tr>\n",
       "      <th>VLO</th>\n",
       "      <td>0.037263</td>\n",
       "      <td>0.034486</td>\n",
       "      <td>0.045140</td>\n",
       "      <td>0.018254</td>\n",
       "      <td>0.017456</td>\n",
       "      <td>0.043491</td>\n",
       "      <td>-0.001186</td>\n",
       "      <td>0.036853</td>\n",
       "      <td>0.038414</td>\n",
       "      <td>0.031005</td>\n",
       "      <td>0.155596</td>\n",
       "      <td>0.073643</td>\n",
       "    </tr>\n",
       "    <tr>\n",
       "      <th>CHK</th>\n",
       "      <td>0.024846</td>\n",
       "      <td>0.026829</td>\n",
       "      <td>0.028308</td>\n",
       "      <td>0.010305</td>\n",
       "      <td>0.036097</td>\n",
       "      <td>0.032825</td>\n",
       "      <td>0.000145</td>\n",
       "      <td>0.014423</td>\n",
       "      <td>0.025140</td>\n",
       "      <td>0.025726</td>\n",
       "      <td>0.073643</td>\n",
       "      <td>0.151527</td>\n",
       "    </tr>\n",
       "  </tbody>\n",
       "</table>\n",
       "</div>"
      ],
      "text/plain": [
       "              ACN      BABA       MPW    SRG.MI      SNOW       DIS   EUNA.DE  \\\n",
       "ACN      0.058897  0.034423  0.032685  0.015777  0.061506  0.033337  0.000808   \n",
       "BABA     0.034423  0.174960  0.029699  0.014634  0.120718  0.032592 -0.000048   \n",
       "MPW      0.032685  0.029699  0.111119  0.018401  0.047498  0.034312  0.001966   \n",
       "SRG.MI   0.015777  0.014634  0.018401  0.049577  0.005896  0.015225  0.001397   \n",
       "SNOW     0.061506  0.120718  0.047498  0.005896  0.423121  0.063407  0.005865   \n",
       "DIS      0.033337  0.032592  0.034312  0.015225  0.063407  0.068239  0.000813   \n",
       "EUNA.DE  0.000808 -0.000048  0.001966  0.001397  0.005865  0.000813  0.001929   \n",
       "VWCE.DE  0.029143  0.029612  0.031212  0.022485  0.022823  0.029604  0.000012   \n",
       "TSM      0.032494  0.048716  0.029816  0.012672  0.088036  0.030826  0.000158   \n",
       "NTES     0.029556  0.098891  0.027296  0.016242  0.089924  0.028432  0.000013   \n",
       "VLO      0.037263  0.034486  0.045140  0.018254  0.017456  0.043491 -0.001186   \n",
       "CHK      0.024846  0.026829  0.028308  0.010305  0.036097  0.032825  0.000145   \n",
       "\n",
       "          VWCE.DE       TSM      NTES       VLO       CHK  \n",
       "ACN      0.029143  0.032494  0.029556  0.037263  0.024846  \n",
       "BABA     0.029612  0.048716  0.098891  0.034486  0.026829  \n",
       "MPW      0.031212  0.029816  0.027296  0.045140  0.028308  \n",
       "SRG.MI   0.022485  0.012672  0.016242  0.018254  0.010305  \n",
       "SNOW     0.022823  0.088036  0.089924  0.017456  0.036097  \n",
       "DIS      0.029604  0.030826  0.028432  0.043491  0.032825  \n",
       "EUNA.DE  0.000012  0.000158  0.000013 -0.001186  0.000145  \n",
       "VWCE.DE  0.030218  0.025640  0.025823  0.036853  0.014423  \n",
       "TSM      0.025640  0.085001  0.043159  0.038414  0.025140  \n",
       "NTES     0.025823  0.043159  0.166627  0.031005  0.025726  \n",
       "VLO      0.036853  0.038414  0.031005  0.155596  0.073643  \n",
       "CHK      0.014423  0.025140  0.025726  0.073643  0.151527  "
      ]
     },
     "execution_count": 4,
     "metadata": {},
     "output_type": "execute_result"
    }
   ],
   "source": [
    "from pypfopt.risk_models import risk_matrix\n",
    "from pypfopt.risk_models import sample_cov\n",
    "S = risk_matrix(matrice_prezzi, method='sample_cov')\n",
    "S"
   ]
  },
  {
   "cell_type": "markdown",
   "id": "68f14989",
   "metadata": {},
   "source": [
    "#### Pesi dell'investimento attuale\n",
    "NB: il dizionario contiene i valori attulmente investiti.\n",
    "\n",
    "Da questi vengono calcolati i pesi attuali e pesi nuovi\n",
    "\n",
    "I pesi nuovi tengono in considerazione del margine disponibile che si vuole investire"
   ]
  },
  {
   "cell_type": "code",
   "execution_count": 5,
   "id": "db3093f3",
   "metadata": {},
   "outputs": [],
   "source": [
    "#Pesi attuali\n",
    "diz_valore_investito = {\n",
    "            'ACN': 1304.18,\n",
    "            'BABA': 319.42,\n",
    "            'MPW': 298.47,\n",
    "            'SRG.MI': 477.6, \n",
    "            'SNOW': 345.87, \n",
    "            'DIS': 85.59, \n",
    "            'EUNA.DE': 93.95,\n",
    "            'VWCE.DE':3201}\n",
    "\n",
    "valore_investito = np.array(list(diz_valore_investito.values()))\n",
    "totale_investito = valore_investito.sum()\n",
    "pesi_actual = (valore_investito)/totale_investito\n",
    "margine_disponibile = 5208.29\n",
    "pesi_nuovi = valore_investito/(totale_investito+margine_disponibile)"
   ]
  },
  {
   "cell_type": "markdown",
   "id": "21f0620d",
   "metadata": {},
   "source": [
    "#### Rendimento complessivo con pesi attuali"
   ]
  },
  {
   "cell_type": "code",
   "execution_count": 6,
   "id": "29e24b71",
   "metadata": {},
   "outputs": [
    {
     "name": "stdout",
     "output_type": "stream",
     "text": [
      "Il rendimento totale annualizzato è pari al  12.08%\n"
     ]
    }
   ],
   "source": [
    "rendimenti_stocks = (np.dot(rendimenti[actual_tickers], pesi_actual))\n",
    "print(f\"Il rendimento totale annualizzato è pari al  {round(rendimenti_stocks * 100, 2)}%\")"
   ]
  },
  {
   "cell_type": "markdown",
   "id": "a12f73a4",
   "metadata": {},
   "source": [
    "#### Varianza e Volatilità complessiva del portafoglio attuale"
   ]
  },
  {
   "cell_type": "code",
   "execution_count": 7,
   "id": "d076a8d4",
   "metadata": {},
   "outputs": [],
   "source": [
    "S_actual = S.loc[actual_tickers, actual_tickers]"
   ]
  },
  {
   "cell_type": "code",
   "execution_count": 8,
   "id": "bd3ab75d",
   "metadata": {
    "scrolled": false
   },
   "outputs": [
    {
     "data": {
      "text/html": [
       "<div>\n",
       "<style scoped>\n",
       "    .dataframe tbody tr th:only-of-type {\n",
       "        vertical-align: middle;\n",
       "    }\n",
       "\n",
       "    .dataframe tbody tr th {\n",
       "        vertical-align: top;\n",
       "    }\n",
       "\n",
       "    .dataframe thead th {\n",
       "        text-align: right;\n",
       "    }\n",
       "</style>\n",
       "<table border=\"1\" class=\"dataframe\">\n",
       "  <thead>\n",
       "    <tr style=\"text-align: right;\">\n",
       "      <th></th>\n",
       "      <th>ACN</th>\n",
       "      <th>BABA</th>\n",
       "      <th>MPW</th>\n",
       "      <th>SRG.MI</th>\n",
       "      <th>SNOW</th>\n",
       "      <th>DIS</th>\n",
       "      <th>EUNA.DE</th>\n",
       "      <th>VWCE.DE</th>\n",
       "    </tr>\n",
       "  </thead>\n",
       "  <tbody>\n",
       "    <tr>\n",
       "      <th>ACN</th>\n",
       "      <td>0.058897</td>\n",
       "      <td>0.034423</td>\n",
       "      <td>0.032685</td>\n",
       "      <td>0.015777</td>\n",
       "      <td>0.061506</td>\n",
       "      <td>0.033337</td>\n",
       "      <td>0.000808</td>\n",
       "      <td>0.029143</td>\n",
       "    </tr>\n",
       "    <tr>\n",
       "      <th>BABA</th>\n",
       "      <td>0.034423</td>\n",
       "      <td>0.174960</td>\n",
       "      <td>0.029699</td>\n",
       "      <td>0.014634</td>\n",
       "      <td>0.120718</td>\n",
       "      <td>0.032592</td>\n",
       "      <td>-0.000048</td>\n",
       "      <td>0.029612</td>\n",
       "    </tr>\n",
       "    <tr>\n",
       "      <th>MPW</th>\n",
       "      <td>0.032685</td>\n",
       "      <td>0.029699</td>\n",
       "      <td>0.111119</td>\n",
       "      <td>0.018401</td>\n",
       "      <td>0.047498</td>\n",
       "      <td>0.034312</td>\n",
       "      <td>0.001966</td>\n",
       "      <td>0.031212</td>\n",
       "    </tr>\n",
       "    <tr>\n",
       "      <th>SRG.MI</th>\n",
       "      <td>0.015777</td>\n",
       "      <td>0.014634</td>\n",
       "      <td>0.018401</td>\n",
       "      <td>0.049577</td>\n",
       "      <td>0.005896</td>\n",
       "      <td>0.015225</td>\n",
       "      <td>0.001397</td>\n",
       "      <td>0.022485</td>\n",
       "    </tr>\n",
       "    <tr>\n",
       "      <th>SNOW</th>\n",
       "      <td>0.061506</td>\n",
       "      <td>0.120718</td>\n",
       "      <td>0.047498</td>\n",
       "      <td>0.005896</td>\n",
       "      <td>0.423121</td>\n",
       "      <td>0.063407</td>\n",
       "      <td>0.005865</td>\n",
       "      <td>0.022823</td>\n",
       "    </tr>\n",
       "    <tr>\n",
       "      <th>DIS</th>\n",
       "      <td>0.033337</td>\n",
       "      <td>0.032592</td>\n",
       "      <td>0.034312</td>\n",
       "      <td>0.015225</td>\n",
       "      <td>0.063407</td>\n",
       "      <td>0.068239</td>\n",
       "      <td>0.000813</td>\n",
       "      <td>0.029604</td>\n",
       "    </tr>\n",
       "    <tr>\n",
       "      <th>EUNA.DE</th>\n",
       "      <td>0.000808</td>\n",
       "      <td>-0.000048</td>\n",
       "      <td>0.001966</td>\n",
       "      <td>0.001397</td>\n",
       "      <td>0.005865</td>\n",
       "      <td>0.000813</td>\n",
       "      <td>0.001929</td>\n",
       "      <td>0.000012</td>\n",
       "    </tr>\n",
       "    <tr>\n",
       "      <th>VWCE.DE</th>\n",
       "      <td>0.029143</td>\n",
       "      <td>0.029612</td>\n",
       "      <td>0.031212</td>\n",
       "      <td>0.022485</td>\n",
       "      <td>0.022823</td>\n",
       "      <td>0.029604</td>\n",
       "      <td>0.000012</td>\n",
       "      <td>0.030218</td>\n",
       "    </tr>\n",
       "  </tbody>\n",
       "</table>\n",
       "</div>"
      ],
      "text/plain": [
       "              ACN      BABA       MPW    SRG.MI      SNOW       DIS   EUNA.DE  \\\n",
       "ACN      0.058897  0.034423  0.032685  0.015777  0.061506  0.033337  0.000808   \n",
       "BABA     0.034423  0.174960  0.029699  0.014634  0.120718  0.032592 -0.000048   \n",
       "MPW      0.032685  0.029699  0.111119  0.018401  0.047498  0.034312  0.001966   \n",
       "SRG.MI   0.015777  0.014634  0.018401  0.049577  0.005896  0.015225  0.001397   \n",
       "SNOW     0.061506  0.120718  0.047498  0.005896  0.423121  0.063407  0.005865   \n",
       "DIS      0.033337  0.032592  0.034312  0.015225  0.063407  0.068239  0.000813   \n",
       "EUNA.DE  0.000808 -0.000048  0.001966  0.001397  0.005865  0.000813  0.001929   \n",
       "VWCE.DE  0.029143  0.029612  0.031212  0.022485  0.022823  0.029604  0.000012   \n",
       "\n",
       "          VWCE.DE  \n",
       "ACN      0.029143  \n",
       "BABA     0.029612  \n",
       "MPW      0.031212  \n",
       "SRG.MI   0.022485  \n",
       "SNOW     0.022823  \n",
       "DIS      0.029604  \n",
       "EUNA.DE  0.000012  \n",
       "VWCE.DE  0.030218  "
      ]
     },
     "execution_count": 8,
     "metadata": {},
     "output_type": "execute_result"
    }
   ],
   "source": [
    "S_actual"
   ]
  },
  {
   "cell_type": "code",
   "execution_count": 9,
   "id": "67b7e2f2",
   "metadata": {},
   "outputs": [
    {
     "data": {
      "text/plain": [
       "0.03194626451144447"
      ]
     },
     "execution_count": 9,
     "metadata": {},
     "output_type": "execute_result"
    }
   ],
   "source": [
    "varianza_stocks = np.dot(pesi_actual.T, np.dot(S_actual, pesi_actual ))\n",
    "varianza_stocks"
   ]
  },
  {
   "cell_type": "code",
   "execution_count": 10,
   "id": "fbfe6b1c",
   "metadata": {},
   "outputs": [
    {
     "name": "stdout",
     "output_type": "stream",
     "text": [
      "La volatilità totale annualizzata è pari al 17.87%\n"
     ]
    }
   ],
   "source": [
    "volatilita_stocks = np.sqrt(varianza_stocks)\n",
    "print(f\"La volatilità totale annualizzata è pari al {round(volatilita_stocks * 100, 2)}%\")"
   ]
  },
  {
   "cell_type": "markdown",
   "id": "d9bf6469",
   "metadata": {},
   "source": [
    "------------------"
   ]
  },
  {
   "cell_type": "markdown",
   "id": "ee066fb4",
   "metadata": {},
   "source": [
    "#### Ricalcolo dei rendimenti e matrice di varianza e covarianza\n",
    "- mu  --> Rendimenti annualizzati\n",
    "- S . --> Matrice di Varianza e Covarianza"
   ]
  },
  {
   "cell_type": "code",
   "execution_count": 11,
   "id": "2768abbf",
   "metadata": {},
   "outputs": [],
   "source": [
    "from pypfopt.risk_models import CovarianceShrinkage\n",
    "mu = mean_historical_return(matrice_prezzi, returns_data=False, compounding=False, frequency=252, log_returns=False)\n",
    "S = CovarianceShrinkage(matrice_prezzi).ledoit_wolf()"
   ]
  },
  {
   "cell_type": "markdown",
   "id": "c10ddb5b",
   "metadata": {},
   "source": [
    "#### Matrice dei pesi\n",
    "\n",
    "La matrice dei pesi **w** contiene n_samples vettori\n",
    "\n",
    "Ogni vettore è lungo total_tickers (tikers presenti nel portafoglio attuale + tikers di interesse).\n",
    "\n",
    "Per i tickers presenti nel portafoglio attuale i pesi sono fissi. Questo perchè vogliamo generare il portafoglio ottimo a partire dal investimento attuale.\n",
    "\n",
    "Per i ticker di interesse i pesi vengono generati in modo randomico. Questo perchè ci interessa generare tanti portafogli a partire dal portafoglio attuale.\n",
    "\n",
    "NB: Ogni vettore restituisce come somma 1\n",
    "\n"
   ]
  },
  {
   "cell_type": "code",
   "execution_count": 12,
   "id": "a0e2ea3a",
   "metadata": {},
   "outputs": [],
   "source": [
    "import numpy as np\n",
    "n_samples = 10000\n",
    "# Generazione di valori casuali normalizzati negli ultimi 12 elementi di ogni array\n",
    "random_values = np.random.rand(n_samples, total_tickers - 8)\n",
    "normalized_values = random_values * (1-pesi_nuovi.sum()) / np.sum(random_values, axis=1, keepdims=True)\n",
    "\n",
    "# Ripetizione dell'array di base per il numero di array desiderato\n",
    "pesi_nuovi_repeated = np.tile(pesi_nuovi, (n_samples, 1))\n",
    "\n",
    "# Combinazione dei valori fissi e quelli normalizzati\n",
    "w = np.column_stack((pesi_nuovi_repeated, normalized_values))\n"
   ]
  },
  {
   "cell_type": "markdown",
   "id": "8f634ae8",
   "metadata": {},
   "source": [
    "#### Portafoglio best - max sharpe"
   ]
  },
  {
   "cell_type": "code",
   "execution_count": 14,
   "id": "5d99aea5",
   "metadata": {
    "scrolled": false
   },
   "outputs": [
    {
     "name": "stdout",
     "output_type": "stream",
     "text": [
      "Expected annual return: 18.2%\n",
      "Annual volatility: 10.7%\n",
      "Sharpe Ratio: 1.52\n"
     ]
    },
    {
     "data": {
      "text/plain": [
       "OrderedDict([('ACN', 0.1150641808940418),\n",
       "             ('BABA', 0.02818153986503),\n",
       "             ('MPW', 0.026333179523873),\n",
       "             ('SRG.MI', 0.042137322144945),\n",
       "             ('SNOW', 0.0305151499377557),\n",
       "             ('DIS', 0.0075513680954477),\n",
       "             ('EUNA.DE', 0.0082889476874321),\n",
       "             ('VWCE.DE', 0.4029366341461952),\n",
       "             ('TSM', 0.0568044115518168),\n",
       "             ('NTES', 0.0321872661534628),\n",
       "             ('VLO', 0.0),\n",
       "             ('CHK', 0.25)])"
      ]
     },
     "execution_count": 14,
     "metadata": {},
     "output_type": "execute_result"
    }
   ],
   "source": [
    "from pypfopt.efficient_frontier import EfficientFrontier\n",
    "\n",
    "ef = EfficientFrontier(mu, S, weight_bounds=(0, 1))\n",
    "ef.add_constraint(lambda x : x[:n_actual_tickers] >= pesi_nuovi) #assegno i pesi veri\n",
    "ef.add_constraint(lambda x : x[11] <= 0.25) #assegno i pesi veri\n",
    "\n",
    "weights_max_sharpe = ef.max_sharpe()\n",
    "# weights_max_sharpe = ef.efficient_return(0.20)\n",
    "ef.portfolio_performance(verbose=True)\n",
    "\n",
    "weights_max_sharpe"
   ]
  },
  {
   "cell_type": "markdown",
   "id": "9c335d0f",
   "metadata": {},
   "source": [
    "### Plotting EfficientFrontier"
   ]
  },
  {
   "cell_type": "code",
   "execution_count": 15,
   "id": "763f70a5",
   "metadata": {
    "scrolled": false
   },
   "outputs": [
    {
     "name": "stderr",
     "output_type": "stream",
     "text": [
      "C:\\Users\\Libero\\miniconda3\\envs\\finance\\lib\\site-packages\\cvxpy\\reductions\\solvers\\solving_chain.py:336: FutureWarning: \n",
      "    Your problem is being solved with the ECOS solver by default. Starting in \n",
      "    CVXPY 1.5.0, Clarabel will be used as the default solver instead. To continue \n",
      "    using ECOS, specify the ECOS solver explicitly using the ``solver=cp.ECOS`` \n",
      "    argument to the ``problem.solve`` method.\n",
      "    \n",
      "  warnings.warn(ECOS_DEPRECATION_MSG, FutureWarning)\n"
     ]
    },
    {
     "data": {
      "image/png": "[encoded data removed]",
      "text/plain": [
       "<Figure size 640x480 with 1 Axes>"
      ]
     },
     "metadata": {},
     "output_type": "display_data"
    },
    {
     "name": "stdout",
     "output_type": "stream",
     "text": [
      "Pesi Max Sharpe:\n",
      "ACN: 11.51% | BABA: 2.82% | MPW: 2.63% | SRG.MI: 4.21% | SNOW: 3.05% | DIS: 0.76% | EUNA.DE: 0.83% | VWCE.DE: 40.29% | TSM: 5.68% | NTES: 3.22% | VLO: 0.0% | CHK: 25.0% | \n",
      "Expected annual return: 18.2%\n",
      "Annual volatility: 10.7%\n",
      "Sharpe Ratio: 1.52\n",
      "\n",
      "\n",
      "Pesi Portfolio Actual:\n",
      "ACN: 21.29% | BABA: 5.21% | MPW: 4.87% | SRG.MI: 7.8% | SNOW: 5.65% | DIS: 1.4% | EUNA.DE: 1.53% | VWCE.DE: 52.25% | \n",
      "Expected annual return: 12.1%\n",
      "Annual volatility: 11.8%\n",
      "Sharpe Ratio: 0.86\n"
     ]
    }
   ],
   "source": [
    "from pypfopt import plotting\n",
    "import matplotlib.pyplot as plt\n",
    "from pypfopt.efficient_frontier import EfficientFrontier\n",
    "\n",
    "ef = EfficientFrontier(mu, S, weight_bounds=(0, 1))\n",
    "ef.add_constraint(lambda x : x[:n_actual_tickers] >= pesi_nuovi)#assegno i pesi veri\n",
    "ef.add_constraint(lambda x : x[11] <= 0.25)\n",
    "fig, ax = plt.subplots()\n",
    "\n",
    "ef_max_sharpe = ef.deepcopy()\n",
    "ef_min_volatility = ef.deepcopy()\n",
    "ef_efficient_risk = ef.deepcopy()\n",
    "ef_efficient_return = ef.deepcopy()\n",
    "\n",
    "plotting.plot_efficient_frontier(ef, ax=ax, show_assets=False)\n",
    "\n",
    "# Generate random portfolios\n",
    "rets = w.dot(ef.expected_returns)\n",
    "stds = np.sqrt(np.diag(w @ ef.cov_matrix @ w.T))\n",
    "sharpes = rets / stds # !!! porque no resta la taso libre de riesgo?\n",
    "ax.scatter(stds, rets, marker=\".\", c=sharpes, cmap=\"viridis_r\")\n",
    "\n",
    "# Trovo il portafoglio con sharpe massimo. il calcolo usa la tasa libre de riesgo\n",
    "weights_max_sharpe = ef_max_sharpe.max_sharpe()\n",
    "ret_tangent, std_tangent, _ = ef_max_sharpe.portfolio_performance()\n",
    "ax.scatter(std_tangent, ret_tangent, marker=\"*\", s=100, c=\"r\", label=\"Max Sharpe\")\n",
    "\n",
    "# Trovo il portafoglio con la minore volatilità\n",
    "weights_min_volatility = ef_min_volatility.min_volatility()\n",
    "ret_tangent, std_tangent, _  = ef_min_volatility.portfolio_performance()\n",
    "ax.scatter(std_tangent, ret_tangent, marker=\"*\", s=100, c=\"g\", label=\"Min Volatility\")\n",
    "\n",
    "# #Trovo il portafoglio con un livello di rischio\n",
    "# weights_efficient_risk = ef_efficient_risk.efficient_risk(0.113)\n",
    "# ret_tangent, std_tangent, _  = ef_efficient_risk.portfolio_performance()\n",
    "# ax.scatter(std_tangent, ret_tangent, marker=\"*\", s=100, c=\"y\", label=\"Efficient Risk\")\n",
    "\n",
    "# #Trovo il portafoglio con un livello di rendimento\n",
    "# weights_efficient_return = ef_efficient_return.efficient_return(0.214)\n",
    "# ret_tangent, std_tangent, _  = ef_efficient_return.portfolio_performance()\n",
    "# ax.scatter(std_tangent, ret_tangent, marker=\"*\", s=100, c=\"orange\", label=\"Efficient Return\")\n",
    "\n",
    "# Portafoglio attuale\n",
    "ef = EfficientFrontier(mu[actual_tickers], S.loc[actual_tickers,actual_tickers], weight_bounds=(0, 1))\n",
    "ef.add_constraint(lambda x: x == pesi_actual)#assegno i pesi veri\n",
    "ef_actual = ef.deepcopy()\n",
    "weights_actual = ef_actual.max_sharpe()#trovo il max_sharpe per i pesi attuali.\n",
    "ret_tangent, std_tangent, _ = ef_actual.portfolio_performance() #le performance coincidono con rendimenti_stocks e volatilita_stocks\n",
    "ax.scatter(std_tangent, ret_tangent, marker=\"*\", s=100, c=\"b\", label=\"Actual\")\n",
    "\n",
    "# Output\n",
    "ax.set_title(\"Efficient Frontier with random portfolios\")\n",
    "ax.legend()\n",
    "plt.tight_layout()\n",
    "plt.savefig(\"ef_scatter.png\", dpi=200)\n",
    "plt.show()\n",
    "\n",
    "\n",
    "print(\"Pesi Max Sharpe:\")\n",
    "for chiave, valore in weights_max_sharpe.items():\n",
    "    print(f\"{chiave}: {round(valore * 100, 2)}%\", end=\" | \")\n",
    "print()\n",
    "ef_max_sharpe.portfolio_performance(verbose=True);\n",
    "\n",
    "print(\"\\n\\nPesi Portfolio Actual:\")\n",
    "for chiave, valore in weights_actual.items():\n",
    "    print(f\"{chiave}: {round(valore * 100, 2)}%\", end=\" | \")\n",
    "print()\n",
    "ef_actual.portfolio_performance(verbose=True);\n",
    "\n",
    "# print(\"\\n\\nPesi Min Volatility:\")\n",
    "# for chiave, valore in weights_min_volatility.items():\n",
    "#     print(f\"{chiave}: {round(valore * 100, 2)}%\", end=\" | \")\n",
    "# print()\n",
    "# ef_min_volatility.portfolio_performance(verbose=True);\n",
    "\n",
    "# print(\"\\n\\nPesi Efficient Risk:\")\n",
    "# for chiave, valore in weights_efficient_risk.items():\n",
    "#     print(f\"{chiave}: {round(valore * 100, 2)}%\", end=\" | \")\n",
    "# print()\n",
    "# ef_efficient_risk.portfolio_performance(verbose=True);\n",
    "\n",
    "# print(\"\\n\\nPesi Efficient Return:\")\n",
    "# for chiave, valore in weights_efficient_return.items():\n",
    "#     print(f\"{chiave}: {round(valore * 100, 2)}%\", end=\" | \")\n",
    "# print()\n",
    "# ef_efficient_return.portfolio_performance(verbose=True);"
   ]
  },
  {
   "cell_type": "code",
   "execution_count": 16,
   "id": "1221741a",
   "metadata": {},
   "outputs": [
    {
     "name": "stdout",
     "output_type": "stream",
     "text": [
      "{'ACN': 4, 'BABA': 4, 'MPW': 87, 'SRG.MI': 97, 'SNOW': 2, 'DIS': 1, 'EUNA.DE': 19, 'VWCE.DE': 42, 'TSM': 6, 'NTES': 4, 'CHK': 36}\n"
     ]
    },
    {
     "name": "stderr",
     "output_type": "stream",
     "text": [
      "C:\\Users\\Libero\\miniconda3\\envs\\finance\\lib\\site-packages\\cvxpy\\problems\\problem.py:1403: UserWarning: Solution may be inaccurate. Try another solver, adjusting the solver settings, or solve with verbose=True for more information.\n",
      "  warnings.warn(\n"
     ]
    }
   ],
   "source": [
    "from pypfopt.discrete_allocation import DiscreteAllocation, get_latest_prices\n",
    "\n",
    "latest_prices = get_latest_prices(matrice_prezzi)\n",
    "da = DiscreteAllocation(weights_max_sharpe, latest_prices, total_portfolio_value=11334)\n",
    "allocation, leftover = da.lp_portfolio()\n",
    "print(allocation)"
   ]
  },
  {
   "cell_type": "code",
   "execution_count": null,
   "id": "a8f3a30e",
   "metadata": {},
   "outputs": [],
   "source": []
  }
 ],
 "metadata": {
  "kernelspec": {
   "display_name": "Python 3 (ipykernel)",
   "language": "python",
   "name": "python3"
  },
  "language_info": {
   "codemirror_mode": {
    "name": "ipython",
    "version": 3
   },
   "file_extension": ".py",
   "mimetype": "text/x-python",
   "name": "python",
   "nbconvert_exporter": "python",
   "pygments_lexer": "ipython3",
   "version": "3.10.9"
  },
  "toc": {
   "base_numbering": 1,
   "nav_menu": {},
   "number_sections": true,
   "sideBar": true,
   "skip_h1_title": false,
   "title_cell": "Table of Contents",
   "title_sidebar": "Contents",
   "toc_cell": false,
   "toc_position": {},
   "toc_section_display": true,
   "toc_window_display": false
  },
  "varInspector": {
   "cols": {
    "lenName": 16,
    "lenType": 16,
    "lenVar": 40
   },
   "kernels_config": {
    "python": {
     "delete_cmd_postfix": "",
     "delete_cmd_prefix": "del ",
     "library": "var_list.py",
     "varRefreshCmd": "print(var_dic_list())"
    },
    "r": {
     "delete_cmd_postfix": ") ",
     "delete_cmd_prefix": "rm(",
     "library": "var_list.r",
     "varRefreshCmd": "cat(var_dic_list()) "
    }
   },
   "types_to_exclude": [
    "module",
    "function",
    "builtin_function_or_method",
    "instance",
    "_Feature"
   ],
   "window_display": false
  }
 },
 "nbformat": 4,
 "nbformat_minor": 5
}
