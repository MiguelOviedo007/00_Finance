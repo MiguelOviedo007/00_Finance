{
 "cells": [
  {
   "cell_type": "code",
   "execution_count": 69,
   "id": "04ee34d0",
   "metadata": {},
   "outputs": [],
   "source": [
    "portafoglio = [\n",
    "    ('MMM', 2635.25),\n",
    "    ('ACN', 1361.1),\n",
    "    ('BABA', 339.62),\n",
    "    ('CHK', 2601.27),\n",
    "    ('MPW', 340.17),\n",
    "    ('SRG.MI', 435.8),\n",
    "    ('SNOW', 430.19),\n",
    "    ('DIS', 101.59),\n",
    "    ('EUNA.DE', 93.29),\n",
    "    ('VWCE.DE', 3408.6),\n",
    "]\n",
    "\n",
    "# Creare il DataFrame\n",
    "df = pd.DataFrame(dati, columns=['Stock', 'Amount'])"
   ]
  },
  {
   "cell_type": "markdown",
   "id": "d1b51a32",
   "metadata": {},
   "source": [
    "## Estrazione dati"
   ]
  },
  {
   "cell_type": "code",
   "execution_count": 24,
   "id": "e0ad1ef7",
   "metadata": {
    "scrolled": true
   },
   "outputs": [
    {
     "name": "stdout",
     "output_type": "stream",
     "text": [
      "[*********************100%***********************]  1 of 1 completed\n",
      "[*********************100%***********************]  1 of 1 completed\n",
      "[*********************100%***********************]  1 of 1 completed\n",
      "[*********************100%***********************]  1 of 1 completed\n",
      "[*********************100%***********************]  1 of 1 completed\n",
      "[*********************100%***********************]  1 of 1 completed\n",
      "[*********************100%***********************]  1 of 1 completed\n",
      "[*********************100%***********************]  1 of 1 completed\n",
      "[*********************100%***********************]  1 of 1 completed\n",
      "[*********************100%***********************]  1 of 1 completed\n",
      "[*********************100%***********************]  1 of 1 completed\n",
      "[*********************100%***********************]  1 of 1 completed\n",
      "[*********************100%***********************]  1 of 1 completed\n"
     ]
    }
   ],
   "source": [
    "import numpy as np\n",
    "import pandas as pd\n",
    "from pandas_datareader import data\n",
    "import yfinance as yf\n",
    "from datetime import datetime\n",
    "yf.pdr_override()\n",
    "start_date = datetime(2010, 2, 12)  # Data di inizio\n",
    "end_date = datetime.now()\n",
    "\n",
    "actual_tickers = ['MMM', 'ACN', 'BABA', \"CHK\", 'MPW', 'SRG.MI', \"SNOW\", 'DIS' , \"EUNA.DE\", \"VWCE.DE\"]\n",
    "n_actual_tickers = len(actual_tickers)\n",
    "\n",
    "new_tickers = [\"PLTR\", \"NVD\",\"CRM\"]\n",
    "# new_tickers = [\"UCG.MI\", \"TSM\", \"AMAT\", \"EOG\", \"NTES\",\"VLO\", \"NUE\", \"STM\", \"TS\", \"STLD\", \"CF\", \"CHK\"]\n",
    "\n",
    "tickers = actual_tickers + new_tickers\n",
    "total_tickers = len(tickers)\n",
    "matrice_prezzi = pd.DataFrame()\n",
    "for t in tickers:\n",
    "    matrice_prezzi[t] = data.get_data_yahoo(t, start_date, end_date)['Adj Close']"
   ]
  },
  {
   "cell_type": "markdown",
   "id": "e0494005",
   "metadata": {},
   "source": [
    "#### Rendimenti annualizzati"
   ]
  },
  {
   "cell_type": "code",
   "execution_count": 25,
   "id": "cb46baf1",
   "metadata": {},
   "outputs": [],
   "source": [
    "from pypfopt.expected_returns import mean_historical_return"
   ]
  },
  {
   "cell_type": "code",
   "execution_count": 26,
   "id": "45dbd276",
   "metadata": {
    "scrolled": true
   },
   "outputs": [
    {
     "data": {
      "text/plain": [
       "MMM        0.066575\n",
       "ACN        0.206785\n",
       "BABA       0.061550\n",
       "CHK        0.314350\n",
       "MPW        0.060916\n",
       "SRG.MI     0.101483\n",
       "SNOW       0.181519\n",
       "DIS        0.138850\n",
       "EUNA.DE   -0.009705\n",
       "VWCE.DE    0.114891\n",
       "PLTR       0.562976\n",
       "NVD       -1.710436\n",
       "CRM        0.271162\n",
       "dtype: float64"
      ]
     },
     "execution_count": 26,
     "metadata": {},
     "output_type": "execute_result"
    }
   ],
   "source": [
    "rendimenti = mean_historical_return(matrice_prezzi, returns_data=False, compounding=False, frequency=252, log_returns=False)\n",
    "rendimenti"
   ]
  },
  {
   "cell_type": "markdown",
   "id": "1ef3f93e",
   "metadata": {},
   "source": [
    "#### Matrice di varianza e covarianza"
   ]
  },
  {
   "cell_type": "code",
   "execution_count": 27,
   "id": "a3643c0b",
   "metadata": {},
   "outputs": [
    {
     "data": {
      "text/html": [
       "<div>\n",
       "<style scoped>\n",
       "    .dataframe tbody tr th:only-of-type {\n",
       "        vertical-align: middle;\n",
       "    }\n",
       "\n",
       "    .dataframe tbody tr th {\n",
       "        vertical-align: top;\n",
       "    }\n",
       "\n",
       "    .dataframe thead th {\n",
       "        text-align: right;\n",
       "    }\n",
       "</style>\n",
       "<table border=\"1\" class=\"dataframe\">\n",
       "  <thead>\n",
       "    <tr style=\"text-align: right;\">\n",
       "      <th></th>\n",
       "      <th>MMM</th>\n",
       "      <th>ACN</th>\n",
       "      <th>BABA</th>\n",
       "      <th>CHK</th>\n",
       "      <th>MPW</th>\n",
       "      <th>SRG.MI</th>\n",
       "      <th>SNOW</th>\n",
       "      <th>DIS</th>\n",
       "      <th>EUNA.DE</th>\n",
       "      <th>VWCE.DE</th>\n",
       "      <th>PLTR</th>\n",
       "      <th>NVD</th>\n",
       "      <th>CRM</th>\n",
       "    </tr>\n",
       "  </thead>\n",
       "  <tbody>\n",
       "    <tr>\n",
       "      <th>MMM</th>\n",
       "      <td>0.050648</td>\n",
       "      <td>0.029261</td>\n",
       "      <td>0.023505</td>\n",
       "      <td>0.020004</td>\n",
       "      <td>0.030493</td>\n",
       "      <td>0.014802</td>\n",
       "      <td>0.021497</td>\n",
       "      <td>0.029134</td>\n",
       "      <td>0.000028</td>\n",
       "      <td>0.021155</td>\n",
       "      <td>0.030777</td>\n",
       "      <td>-0.005874</td>\n",
       "      <td>0.029173</td>\n",
       "    </tr>\n",
       "    <tr>\n",
       "      <th>ACN</th>\n",
       "      <td>0.029261</td>\n",
       "      <td>0.058719</td>\n",
       "      <td>0.034066</td>\n",
       "      <td>0.024115</td>\n",
       "      <td>0.032749</td>\n",
       "      <td>0.015610</td>\n",
       "      <td>0.061398</td>\n",
       "      <td>0.033204</td>\n",
       "      <td>0.000792</td>\n",
       "      <td>0.028660</td>\n",
       "      <td>0.060785</td>\n",
       "      <td>-0.032572</td>\n",
       "      <td>0.044539</td>\n",
       "    </tr>\n",
       "    <tr>\n",
       "      <th>BABA</th>\n",
       "      <td>0.023505</td>\n",
       "      <td>0.034066</td>\n",
       "      <td>0.175282</td>\n",
       "      <td>0.025712</td>\n",
       "      <td>0.029842</td>\n",
       "      <td>0.014465</td>\n",
       "      <td>0.117986</td>\n",
       "      <td>0.031764</td>\n",
       "      <td>-0.000066</td>\n",
       "      <td>0.029161</td>\n",
       "      <td>0.114115</td>\n",
       "      <td>-0.034077</td>\n",
       "      <td>0.050608</td>\n",
       "    </tr>\n",
       "    <tr>\n",
       "      <th>CHK</th>\n",
       "      <td>0.020004</td>\n",
       "      <td>0.024115</td>\n",
       "      <td>0.025712</td>\n",
       "      <td>0.148567</td>\n",
       "      <td>0.028493</td>\n",
       "      <td>0.010226</td>\n",
       "      <td>0.034797</td>\n",
       "      <td>0.032736</td>\n",
       "      <td>0.000213</td>\n",
       "      <td>0.014200</td>\n",
       "      <td>0.043934</td>\n",
       "      <td>-0.001365</td>\n",
       "      <td>0.029704</td>\n",
       "    </tr>\n",
       "    <tr>\n",
       "      <th>MPW</th>\n",
       "      <td>0.030493</td>\n",
       "      <td>0.032749</td>\n",
       "      <td>0.029842</td>\n",
       "      <td>0.028493</td>\n",
       "      <td>0.112369</td>\n",
       "      <td>0.018330</td>\n",
       "      <td>0.049319</td>\n",
       "      <td>0.034458</td>\n",
       "      <td>0.002098</td>\n",
       "      <td>0.031139</td>\n",
       "      <td>0.071803</td>\n",
       "      <td>-0.034429</td>\n",
       "      <td>0.037411</td>\n",
       "    </tr>\n",
       "    <tr>\n",
       "      <th>SRG.MI</th>\n",
       "      <td>0.014802</td>\n",
       "      <td>0.015610</td>\n",
       "      <td>0.014465</td>\n",
       "      <td>0.010226</td>\n",
       "      <td>0.018330</td>\n",
       "      <td>0.049461</td>\n",
       "      <td>0.004800</td>\n",
       "      <td>0.015067</td>\n",
       "      <td>0.001423</td>\n",
       "      <td>0.022046</td>\n",
       "      <td>0.007758</td>\n",
       "      <td>0.004209</td>\n",
       "      <td>0.015091</td>\n",
       "    </tr>\n",
       "    <tr>\n",
       "      <th>SNOW</th>\n",
       "      <td>0.021497</td>\n",
       "      <td>0.061398</td>\n",
       "      <td>0.117986</td>\n",
       "      <td>0.034797</td>\n",
       "      <td>0.049319</td>\n",
       "      <td>0.004800</td>\n",
       "      <td>0.418851</td>\n",
       "      <td>0.062761</td>\n",
       "      <td>0.005467</td>\n",
       "      <td>0.022882</td>\n",
       "      <td>0.239639</td>\n",
       "      <td>-0.096358</td>\n",
       "      <td>0.119639</td>\n",
       "    </tr>\n",
       "    <tr>\n",
       "      <th>DIS</th>\n",
       "      <td>0.029134</td>\n",
       "      <td>0.033204</td>\n",
       "      <td>0.031764</td>\n",
       "      <td>0.032736</td>\n",
       "      <td>0.034458</td>\n",
       "      <td>0.015067</td>\n",
       "      <td>0.062761</td>\n",
       "      <td>0.069065</td>\n",
       "      <td>0.000812</td>\n",
       "      <td>0.029197</td>\n",
       "      <td>0.071548</td>\n",
       "      <td>-0.020765</td>\n",
       "      <td>0.038443</td>\n",
       "    </tr>\n",
       "    <tr>\n",
       "      <th>EUNA.DE</th>\n",
       "      <td>0.000028</td>\n",
       "      <td>0.000792</td>\n",
       "      <td>-0.000066</td>\n",
       "      <td>0.000213</td>\n",
       "      <td>0.002098</td>\n",
       "      <td>0.001423</td>\n",
       "      <td>0.005467</td>\n",
       "      <td>0.000812</td>\n",
       "      <td>0.001940</td>\n",
       "      <td>0.000007</td>\n",
       "      <td>0.004692</td>\n",
       "      <td>-0.002798</td>\n",
       "      <td>0.000639</td>\n",
       "    </tr>\n",
       "    <tr>\n",
       "      <th>VWCE.DE</th>\n",
       "      <td>0.021155</td>\n",
       "      <td>0.028660</td>\n",
       "      <td>0.029161</td>\n",
       "      <td>0.014200</td>\n",
       "      <td>0.031139</td>\n",
       "      <td>0.022046</td>\n",
       "      <td>0.022882</td>\n",
       "      <td>0.029197</td>\n",
       "      <td>0.000007</td>\n",
       "      <td>0.029801</td>\n",
       "      <td>0.026705</td>\n",
       "      <td>-0.017971</td>\n",
       "      <td>0.028057</td>\n",
       "    </tr>\n",
       "    <tr>\n",
       "      <th>PLTR</th>\n",
       "      <td>0.030777</td>\n",
       "      <td>0.060785</td>\n",
       "      <td>0.114115</td>\n",
       "      <td>0.043934</td>\n",
       "      <td>0.071803</td>\n",
       "      <td>0.007758</td>\n",
       "      <td>0.239639</td>\n",
       "      <td>0.071548</td>\n",
       "      <td>0.004692</td>\n",
       "      <td>0.026705</td>\n",
       "      <td>0.559640</td>\n",
       "      <td>-0.116901</td>\n",
       "      <td>0.114493</td>\n",
       "    </tr>\n",
       "    <tr>\n",
       "      <th>NVD</th>\n",
       "      <td>-0.005874</td>\n",
       "      <td>-0.032572</td>\n",
       "      <td>-0.034077</td>\n",
       "      <td>-0.001365</td>\n",
       "      <td>-0.034429</td>\n",
       "      <td>0.004209</td>\n",
       "      <td>-0.096358</td>\n",
       "      <td>-0.020765</td>\n",
       "      <td>-0.002798</td>\n",
       "      <td>-0.017971</td>\n",
       "      <td>-0.116901</td>\n",
       "      <td>0.290750</td>\n",
       "      <td>-0.050123</td>\n",
       "    </tr>\n",
       "    <tr>\n",
       "      <th>CRM</th>\n",
       "      <td>0.029173</td>\n",
       "      <td>0.044539</td>\n",
       "      <td>0.050608</td>\n",
       "      <td>0.029704</td>\n",
       "      <td>0.037411</td>\n",
       "      <td>0.015091</td>\n",
       "      <td>0.119639</td>\n",
       "      <td>0.038443</td>\n",
       "      <td>0.000639</td>\n",
       "      <td>0.028057</td>\n",
       "      <td>0.114493</td>\n",
       "      <td>-0.050123</td>\n",
       "      <td>0.130878</td>\n",
       "    </tr>\n",
       "  </tbody>\n",
       "</table>\n",
       "</div>"
      ],
      "text/plain": [
       "              MMM       ACN      BABA       CHK       MPW    SRG.MI      SNOW  \\\n",
       "MMM      0.050648  0.029261  0.023505  0.020004  0.030493  0.014802  0.021497   \n",
       "ACN      0.029261  0.058719  0.034066  0.024115  0.032749  0.015610  0.061398   \n",
       "BABA     0.023505  0.034066  0.175282  0.025712  0.029842  0.014465  0.117986   \n",
       "CHK      0.020004  0.024115  0.025712  0.148567  0.028493  0.010226  0.034797   \n",
       "MPW      0.030493  0.032749  0.029842  0.028493  0.112369  0.018330  0.049319   \n",
       "SRG.MI   0.014802  0.015610  0.014465  0.010226  0.018330  0.049461  0.004800   \n",
       "SNOW     0.021497  0.061398  0.117986  0.034797  0.049319  0.004800  0.418851   \n",
       "DIS      0.029134  0.033204  0.031764  0.032736  0.034458  0.015067  0.062761   \n",
       "EUNA.DE  0.000028  0.000792 -0.000066  0.000213  0.002098  0.001423  0.005467   \n",
       "VWCE.DE  0.021155  0.028660  0.029161  0.014200  0.031139  0.022046  0.022882   \n",
       "PLTR     0.030777  0.060785  0.114115  0.043934  0.071803  0.007758  0.239639   \n",
       "NVD     -0.005874 -0.032572 -0.034077 -0.001365 -0.034429  0.004209 -0.096358   \n",
       "CRM      0.029173  0.044539  0.050608  0.029704  0.037411  0.015091  0.119639   \n",
       "\n",
       "              DIS   EUNA.DE   VWCE.DE      PLTR       NVD       CRM  \n",
       "MMM      0.029134  0.000028  0.021155  0.030777 -0.005874  0.029173  \n",
       "ACN      0.033204  0.000792  0.028660  0.060785 -0.032572  0.044539  \n",
       "BABA     0.031764 -0.000066  0.029161  0.114115 -0.034077  0.050608  \n",
       "CHK      0.032736  0.000213  0.014200  0.043934 -0.001365  0.029704  \n",
       "MPW      0.034458  0.002098  0.031139  0.071803 -0.034429  0.037411  \n",
       "SRG.MI   0.015067  0.001423  0.022046  0.007758  0.004209  0.015091  \n",
       "SNOW     0.062761  0.005467  0.022882  0.239639 -0.096358  0.119639  \n",
       "DIS      0.069065  0.000812  0.029197  0.071548 -0.020765  0.038443  \n",
       "EUNA.DE  0.000812  0.001940  0.000007  0.004692 -0.002798  0.000639  \n",
       "VWCE.DE  0.029197  0.000007  0.029801  0.026705 -0.017971  0.028057  \n",
       "PLTR     0.071548  0.004692  0.026705  0.559640 -0.116901  0.114493  \n",
       "NVD     -0.020765 -0.002798 -0.017971 -0.116901  0.290750 -0.050123  \n",
       "CRM      0.038443  0.000639  0.028057  0.114493 -0.050123  0.130878  "
      ]
     },
     "execution_count": 27,
     "metadata": {},
     "output_type": "execute_result"
    }
   ],
   "source": [
    "from pypfopt.risk_models import risk_matrix\n",
    "from pypfopt.risk_models import sample_cov\n",
    "S = risk_matrix(matrice_prezzi, method='sample_cov')\n",
    "S"
   ]
  },
  {
   "cell_type": "markdown",
   "id": "68f14989",
   "metadata": {},
   "source": [
    "#### Pesi dell'investimento attuale\n",
    "NB: il dizionario contiene i valori attulmente investiti.\n",
    "\n",
    "Da questi vengono calcolati i pesi attuali e pesi nuovi\n",
    "\n",
    "I pesi nuovi tengono in considerazione del margine disponibile che si vuole investire"
   ]
  },
  {
   "cell_type": "code",
   "execution_count": 28,
   "id": "db3093f3",
   "metadata": {},
   "outputs": [],
   "source": [
    "#Pesi attuali\n",
    "\n",
    "diz_valore_investito = {\n",
    "'MMM':2635.25,\n",
    "'ACN':1361.1,\n",
    "'BABA':339.62,\n",
    "'CHK':2601.27,\n",
    "'MPW':340.17,\n",
    "'SRG.MI':435.8,\n",
    "'SNOW':430.19,\n",
    "'DIS':101.59,\n",
    "'EUNA.DE':93.29,\n",
    "'VWCE.DE':3408.6,\n",
    "}\n",
    "\n",
    "\n",
    "\n",
    "valore_investito = np.array(list(diz_valore_investito.values()))\n",
    "totale_investito = valore_investito.sum()\n",
    "pesi_actual = (valore_investito)/totale_investito\n",
    "margine_disponibile = 1000\n",
    "\n",
    "pesi_nuovi = valore_investito/(totale_investito+margine_disponibile)"
   ]
  },
  {
   "cell_type": "markdown",
   "id": "21f0620d",
   "metadata": {},
   "source": [
    "#### Rendimento complessivo con pesi attuali"
   ]
  },
  {
   "cell_type": "code",
   "execution_count": 29,
   "id": "29e24b71",
   "metadata": {},
   "outputs": [
    {
     "name": "stdout",
     "output_type": "stream",
     "text": [
      "Il rendimento totale annualizzato è pari al  15.69%\n"
     ]
    }
   ],
   "source": [
    "rendimenti_stocks = (np.dot(rendimenti[actual_tickers], pesi_actual))\n",
    "print(f\"Il rendimento totale annualizzato è pari al  {round(rendimenti_stocks * 100, 2)}%\")"
   ]
  },
  {
   "cell_type": "markdown",
   "id": "a12f73a4",
   "metadata": {},
   "source": [
    "#### Varianza e Volatilità complessiva del portafoglio attuale"
   ]
  },
  {
   "cell_type": "code",
   "execution_count": 30,
   "id": "d076a8d4",
   "metadata": {},
   "outputs": [],
   "source": [
    "S_actual = S.loc[actual_tickers, actual_tickers]"
   ]
  },
  {
   "cell_type": "code",
   "execution_count": 31,
   "id": "bd3ab75d",
   "metadata": {
    "scrolled": false
   },
   "outputs": [
    {
     "data": {
      "text/html": [
       "<div>\n",
       "<style scoped>\n",
       "    .dataframe tbody tr th:only-of-type {\n",
       "        vertical-align: middle;\n",
       "    }\n",
       "\n",
       "    .dataframe tbody tr th {\n",
       "        vertical-align: top;\n",
       "    }\n",
       "\n",
       "    .dataframe thead th {\n",
       "        text-align: right;\n",
       "    }\n",
       "</style>\n",
       "<table border=\"1\" class=\"dataframe\">\n",
       "  <thead>\n",
       "    <tr style=\"text-align: right;\">\n",
       "      <th></th>\n",
       "      <th>MMM</th>\n",
       "      <th>ACN</th>\n",
       "      <th>BABA</th>\n",
       "      <th>CHK</th>\n",
       "      <th>MPW</th>\n",
       "      <th>SRG.MI</th>\n",
       "      <th>SNOW</th>\n",
       "      <th>DIS</th>\n",
       "      <th>EUNA.DE</th>\n",
       "      <th>VWCE.DE</th>\n",
       "    </tr>\n",
       "  </thead>\n",
       "  <tbody>\n",
       "    <tr>\n",
       "      <th>MMM</th>\n",
       "      <td>0.050648</td>\n",
       "      <td>0.029261</td>\n",
       "      <td>0.023505</td>\n",
       "      <td>0.020004</td>\n",
       "      <td>0.030493</td>\n",
       "      <td>0.014802</td>\n",
       "      <td>0.021497</td>\n",
       "      <td>0.029134</td>\n",
       "      <td>0.000028</td>\n",
       "      <td>0.021155</td>\n",
       "    </tr>\n",
       "    <tr>\n",
       "      <th>ACN</th>\n",
       "      <td>0.029261</td>\n",
       "      <td>0.058719</td>\n",
       "      <td>0.034066</td>\n",
       "      <td>0.024115</td>\n",
       "      <td>0.032749</td>\n",
       "      <td>0.015610</td>\n",
       "      <td>0.061398</td>\n",
       "      <td>0.033204</td>\n",
       "      <td>0.000792</td>\n",
       "      <td>0.028660</td>\n",
       "    </tr>\n",
       "    <tr>\n",
       "      <th>BABA</th>\n",
       "      <td>0.023505</td>\n",
       "      <td>0.034066</td>\n",
       "      <td>0.175282</td>\n",
       "      <td>0.025712</td>\n",
       "      <td>0.029842</td>\n",
       "      <td>0.014465</td>\n",
       "      <td>0.117986</td>\n",
       "      <td>0.031764</td>\n",
       "      <td>-0.000066</td>\n",
       "      <td>0.029161</td>\n",
       "    </tr>\n",
       "    <tr>\n",
       "      <th>CHK</th>\n",
       "      <td>0.020004</td>\n",
       "      <td>0.024115</td>\n",
       "      <td>0.025712</td>\n",
       "      <td>0.148567</td>\n",
       "      <td>0.028493</td>\n",
       "      <td>0.010226</td>\n",
       "      <td>0.034797</td>\n",
       "      <td>0.032736</td>\n",
       "      <td>0.000213</td>\n",
       "      <td>0.014200</td>\n",
       "    </tr>\n",
       "    <tr>\n",
       "      <th>MPW</th>\n",
       "      <td>0.030493</td>\n",
       "      <td>0.032749</td>\n",
       "      <td>0.029842</td>\n",
       "      <td>0.028493</td>\n",
       "      <td>0.112369</td>\n",
       "      <td>0.018330</td>\n",
       "      <td>0.049319</td>\n",
       "      <td>0.034458</td>\n",
       "      <td>0.002098</td>\n",
       "      <td>0.031139</td>\n",
       "    </tr>\n",
       "    <tr>\n",
       "      <th>SRG.MI</th>\n",
       "      <td>0.014802</td>\n",
       "      <td>0.015610</td>\n",
       "      <td>0.014465</td>\n",
       "      <td>0.010226</td>\n",
       "      <td>0.018330</td>\n",
       "      <td>0.049461</td>\n",
       "      <td>0.004800</td>\n",
       "      <td>0.015067</td>\n",
       "      <td>0.001423</td>\n",
       "      <td>0.022046</td>\n",
       "    </tr>\n",
       "    <tr>\n",
       "      <th>SNOW</th>\n",
       "      <td>0.021497</td>\n",
       "      <td>0.061398</td>\n",
       "      <td>0.117986</td>\n",
       "      <td>0.034797</td>\n",
       "      <td>0.049319</td>\n",
       "      <td>0.004800</td>\n",
       "      <td>0.418851</td>\n",
       "      <td>0.062761</td>\n",
       "      <td>0.005467</td>\n",
       "      <td>0.022882</td>\n",
       "    </tr>\n",
       "    <tr>\n",
       "      <th>DIS</th>\n",
       "      <td>0.029134</td>\n",
       "      <td>0.033204</td>\n",
       "      <td>0.031764</td>\n",
       "      <td>0.032736</td>\n",
       "      <td>0.034458</td>\n",
       "      <td>0.015067</td>\n",
       "      <td>0.062761</td>\n",
       "      <td>0.069065</td>\n",
       "      <td>0.000812</td>\n",
       "      <td>0.029197</td>\n",
       "    </tr>\n",
       "    <tr>\n",
       "      <th>EUNA.DE</th>\n",
       "      <td>0.000028</td>\n",
       "      <td>0.000792</td>\n",
       "      <td>-0.000066</td>\n",
       "      <td>0.000213</td>\n",
       "      <td>0.002098</td>\n",
       "      <td>0.001423</td>\n",
       "      <td>0.005467</td>\n",
       "      <td>0.000812</td>\n",
       "      <td>0.001940</td>\n",
       "      <td>0.000007</td>\n",
       "    </tr>\n",
       "    <tr>\n",
       "      <th>VWCE.DE</th>\n",
       "      <td>0.021155</td>\n",
       "      <td>0.028660</td>\n",
       "      <td>0.029161</td>\n",
       "      <td>0.014200</td>\n",
       "      <td>0.031139</td>\n",
       "      <td>0.022046</td>\n",
       "      <td>0.022882</td>\n",
       "      <td>0.029197</td>\n",
       "      <td>0.000007</td>\n",
       "      <td>0.029801</td>\n",
       "    </tr>\n",
       "  </tbody>\n",
       "</table>\n",
       "</div>"
      ],
      "text/plain": [
       "              MMM       ACN      BABA       CHK       MPW    SRG.MI      SNOW  \\\n",
       "MMM      0.050648  0.029261  0.023505  0.020004  0.030493  0.014802  0.021497   \n",
       "ACN      0.029261  0.058719  0.034066  0.024115  0.032749  0.015610  0.061398   \n",
       "BABA     0.023505  0.034066  0.175282  0.025712  0.029842  0.014465  0.117986   \n",
       "CHK      0.020004  0.024115  0.025712  0.148567  0.028493  0.010226  0.034797   \n",
       "MPW      0.030493  0.032749  0.029842  0.028493  0.112369  0.018330  0.049319   \n",
       "SRG.MI   0.014802  0.015610  0.014465  0.010226  0.018330  0.049461  0.004800   \n",
       "SNOW     0.021497  0.061398  0.117986  0.034797  0.049319  0.004800  0.418851   \n",
       "DIS      0.029134  0.033204  0.031764  0.032736  0.034458  0.015067  0.062761   \n",
       "EUNA.DE  0.000028  0.000792 -0.000066  0.000213  0.002098  0.001423  0.005467   \n",
       "VWCE.DE  0.021155  0.028660  0.029161  0.014200  0.031139  0.022046  0.022882   \n",
       "\n",
       "              DIS   EUNA.DE   VWCE.DE  \n",
       "MMM      0.029134  0.000028  0.021155  \n",
       "ACN      0.033204  0.000792  0.028660  \n",
       "BABA     0.031764 -0.000066  0.029161  \n",
       "CHK      0.032736  0.000213  0.014200  \n",
       "MPW      0.034458  0.002098  0.031139  \n",
       "SRG.MI   0.015067  0.001423  0.022046  \n",
       "SNOW     0.062761  0.005467  0.022882  \n",
       "DIS      0.069065  0.000812  0.029197  \n",
       "EUNA.DE  0.000812  0.001940  0.000007  \n",
       "VWCE.DE  0.029197  0.000007  0.029801  "
      ]
     },
     "execution_count": 31,
     "metadata": {},
     "output_type": "execute_result"
    }
   ],
   "source": [
    "S_actual"
   ]
  },
  {
   "cell_type": "code",
   "execution_count": 32,
   "id": "67b7e2f2",
   "metadata": {},
   "outputs": [
    {
     "data": {
      "text/plain": [
       "0.03209409477865763"
      ]
     },
     "execution_count": 32,
     "metadata": {},
     "output_type": "execute_result"
    }
   ],
   "source": [
    "varianza_stocks = np.dot(pesi_actual.T, np.dot(S_actual, pesi_actual ))\n",
    "varianza_stocks"
   ]
  },
  {
   "cell_type": "code",
   "execution_count": 33,
   "id": "fbfe6b1c",
   "metadata": {},
   "outputs": [
    {
     "name": "stdout",
     "output_type": "stream",
     "text": [
      "La volatilità totale annualizzata è pari al 17.91%\n"
     ]
    }
   ],
   "source": [
    "volatilita_stocks = np.sqrt(varianza_stocks)\n",
    "print(f\"La volatilità totale annualizzata è pari al {round(volatilita_stocks * 100, 2)}%\")"
   ]
  },
  {
   "cell_type": "markdown",
   "id": "d9bf6469",
   "metadata": {},
   "source": [
    "------------------"
   ]
  },
  {
   "cell_type": "markdown",
   "id": "ee066fb4",
   "metadata": {},
   "source": [
    "#### Ricalcolo dei rendimenti e matrice di varianza e covarianza\n",
    "- mu  --> Rendimenti annualizzati\n",
    "- S . --> Matrice di Varianza e Covarianza"
   ]
  },
  {
   "cell_type": "code",
   "execution_count": 34,
   "id": "2768abbf",
   "metadata": {},
   "outputs": [],
   "source": [
    "from pypfopt.risk_models import CovarianceShrinkage\n",
    "mu = mean_historical_return(matrice_prezzi, returns_data=False, compounding=False, frequency=252, log_returns=False)\n",
    "S = CovarianceShrinkage(matrice_prezzi).ledoit_wolf()"
   ]
  },
  {
   "cell_type": "markdown",
   "id": "c10ddb5b",
   "metadata": {},
   "source": [
    "#### Matrice dei pesi\n",
    "\n",
    "La matrice dei pesi **w** contiene n_samples vettori\n",
    "\n",
    "Ogni vettore è lungo total_tickers (tikers presenti nel portafoglio attuale + tikers di interesse).\n",
    "\n",
    "Per i tickers presenti nel portafoglio attuale i pesi sono fissi. Questo perchè vogliamo generare il portafoglio ottimo a partire dal investimento attuale.\n",
    "\n",
    "Per i ticker di interesse i pesi vengono generati in modo randomico. Questo perchè ci interessa generare tanti portafogli a partire dal portafoglio attuale.\n",
    "\n",
    "NB: Ogni vettore restituisce come somma 1\n",
    "\n"
   ]
  },
  {
   "cell_type": "code",
   "execution_count": 35,
   "id": "8fa2466a",
   "metadata": {},
   "outputs": [
    {
     "data": {
      "text/plain": [
       "['MMM',\n",
       " 'ACN',\n",
       " 'BABA',\n",
       " 'CHK',\n",
       " 'MPW',\n",
       " 'SRG.MI',\n",
       " 'SNOW',\n",
       " 'DIS',\n",
       " 'EUNA.DE',\n",
       " 'VWCE.DE']"
      ]
     },
     "execution_count": 35,
     "metadata": {},
     "output_type": "execute_result"
    }
   ],
   "source": [
    "actual_tickers"
   ]
  },
  {
   "cell_type": "code",
   "execution_count": 36,
   "id": "a0e2ea3a",
   "metadata": {},
   "outputs": [],
   "source": [
    "import numpy as np\n",
    "n_samples = 10000\n",
    "# Generazione di valori casuali normalizzati negli ultimi 12 elementi di ogni array\n",
    "random_values = np.random.rand(n_samples, total_tickers - n_actual_tickers)\n",
    "normalized_values = random_values * (1-pesi_nuovi.sum()) / np.sum(random_values, axis=1, keepdims=True)\n",
    "\n",
    "# Ripetizione dell'array di base per il numero di array desiderato\n",
    "pesi_nuovi_repeated = np.tile(pesi_nuovi, (n_samples, 1))\n",
    "\n",
    "# Combinazione dei valori fissi e quelli normalizzati\n",
    "w = np.column_stack((pesi_nuovi_repeated, normalized_values))\n"
   ]
  },
  {
   "cell_type": "markdown",
   "id": "8f634ae8",
   "metadata": {},
   "source": [
    "#### Portafoglio best - max sharpe"
   ]
  },
  {
   "cell_type": "code",
   "execution_count": 37,
   "id": "5d99aea5",
   "metadata": {
    "scrolled": false
   },
   "outputs": [
    {
     "name": "stdout",
     "output_type": "stream",
     "text": [
      "Expected annual return: 18.9%\n",
      "Annual volatility: 11.7%\n",
      "Sharpe Ratio: 1.45\n"
     ]
    },
    {
     "data": {
      "text/plain": [
       "OrderedDict([('MMM', 0.2067368642365818),\n",
       "             ('ACN', 0.1067790706431692),\n",
       "             ('BABA', 0.0266433825375308),\n",
       "             ('CHK', 0.2040711138725711),\n",
       "             ('MPW', 0.0266865303509565),\n",
       "             ('SRG.MI', 0.0341887583471406),\n",
       "             ('SNOW', 0.0337486506501983),\n",
       "             ('DIS', 0.0079697933925792),\n",
       "             ('EUNA.DE', 0.0073186536627002),\n",
       "             ('VWCE.DE', 0.2674066124416328),\n",
       "             ('PLTR', 0.0784505698649395),\n",
       "             ('NVD', 0.0),\n",
       "             ('CRM', 0.0)])"
      ]
     },
     "execution_count": 37,
     "metadata": {},
     "output_type": "execute_result"
    }
   ],
   "source": [
    "from pypfopt.efficient_frontier import EfficientFrontier\n",
    "\n",
    "ef = EfficientFrontier(mu, S, weight_bounds=(0, 1))\n",
    "ef.add_constraint(lambda x : x[:n_actual_tickers] >= pesi_nuovi) #assegno i pesi veri\n",
    "ef.add_constraint(lambda x : x[11] <= 0.25) #assegno i pesi veri\n",
    "\n",
    "weights_max_sharpe = ef.max_sharpe()\n",
    "# weights_max_sharpe = ef.efficient_return(0.20)\n",
    "ef.portfolio_performance(verbose=True)\n",
    "\n",
    "weights_max_sharpe"
   ]
  },
  {
   "cell_type": "markdown",
   "id": "9c335d0f",
   "metadata": {},
   "source": [
    "### Plotting EfficientFrontier"
   ]
  },
  {
   "cell_type": "code",
   "execution_count": 38,
   "id": "763f70a5",
   "metadata": {
    "scrolled": false
   },
   "outputs": [
    {
     "name": "stderr",
     "output_type": "stream",
     "text": [
      "C:\\Users\\Libero\\miniconda3\\envs\\finance\\lib\\site-packages\\cvxpy\\reductions\\solvers\\solving_chain.py:336: FutureWarning: \n",
      "    Your problem is being solved with the ECOS solver by default. Starting in \n",
      "    CVXPY 1.5.0, Clarabel will be used as the default solver instead. To continue \n",
      "    using ECOS, specify the ECOS solver explicitly using the ``solver=cp.ECOS`` \n",
      "    argument to the ``problem.solve`` method.\n",
      "    \n",
      "  warnings.warn(ECOS_DEPRECATION_MSG, FutureWarning)\n"
     ]
    },
    {
     "data": {
      "image/png": "[encoded data removed]",
      "text/plain": [
       "<Figure size 640x480 with 1 Axes>"
      ]
     },
     "metadata": {},
     "output_type": "display_data"
    },
    {
     "name": "stdout",
     "output_type": "stream",
     "text": [
      "Pesi Max Sharpe:\n",
      "MMM: 20.67% | ACN: 10.68% | BABA: 2.66% | CHK: 20.41% | MPW: 2.67% | SRG.MI: 3.42% | SNOW: 3.37% | DIS: 0.8% | EUNA.DE: 0.73% | VWCE.DE: 26.74% | PLTR: 7.85% | NVD: 0.0% | CRM: 0.0% | \n",
      "Expected annual return: 18.9%\n",
      "Annual volatility: 11.7%\n",
      "Sharpe Ratio: 1.45\n",
      "\n",
      "\n",
      "Pesi Portfolio Actual:\n",
      "MMM: 20.67% | ACN: 10.68% | BABA: 2.66% | CHK: 20.41% | MPW: 2.67% | SRG.MI: 3.42% | SNOW: 3.37% | DIS: 0.8% | EUNA.DE: 0.73% | VWCE.DE: 26.74% | \n",
      "Expected annual return: 15.7%\n",
      "Annual volatility: 11.5%\n",
      "Sharpe Ratio: 1.19\n"
     ]
    }
   ],
   "source": [
    "\n",
    "from pypfopt import plotting\n",
    "import matplotlib.pyplot as plt\n",
    "from pypfopt.efficient_frontier import EfficientFrontier\n",
    "\n",
    "ef = EfficientFrontier(mu, S, weight_bounds=(0, 1))\n",
    "ef.add_constraint(lambda x : x[:n_actual_tickers] >= pesi_nuovi)#assegno i pesi veri\n",
    "# ef.add_constraint(lambda x : x[11] <= 0.25)\n",
    "fig, ax = plt.subplots()\n",
    "\n",
    "ef_max_sharpe = ef.deepcopy()\n",
    "ef_min_volatility = ef.deepcopy()\n",
    "ef_efficient_risk = ef.deepcopy()\n",
    "ef_efficient_return = ef.deepcopy()\n",
    "\n",
    "plotting.plot_efficient_frontier(ef, ax=ax, show_assets=False)\n",
    "\n",
    "# Generate random portfolios\n",
    "rets = w.dot(ef.expected_returns)\n",
    "stds = np.sqrt(np.diag(w @ ef.cov_matrix @ w.T))\n",
    "sharpes = rets / stds # !!! porque no resta la taso libre de riesgo?\n",
    "ax.scatter(stds, rets, marker=\".\", c=sharpes, cmap=\"viridis_r\")\n",
    "\n",
    "# Trovo il portafoglio con sharpe massimo. il calcolo usa la tasa libre de riesgo\n",
    "weights_max_sharpe = ef_max_sharpe.max_sharpe()\n",
    "ret_tangent, std_tangent, _ = ef_max_sharpe.portfolio_performance()\n",
    "ax.scatter(std_tangent, ret_tangent, marker=\"*\", s=100, c=\"r\", label=\"Max Sharpe\")\n",
    "\n",
    "# Trovo il portafoglio con la minore volatilità\n",
    "weights_min_volatility = ef_min_volatility.min_volatility()\n",
    "ret_tangent, std_tangent, _  = ef_min_volatility.portfolio_performance()\n",
    "ax.scatter(std_tangent, ret_tangent, marker=\"*\", s=100, c=\"g\", label=\"Min Volatility\")\n",
    "\n",
    "# #Trovo il portafoglio con un livello di rischio\n",
    "# weights_efficient_risk = ef_efficient_risk.efficient_risk(0.113)\n",
    "# ret_tangent, std_tangent, _  = ef_efficient_risk.portfolio_performance()\n",
    "# ax.scatter(std_tangent, ret_tangent, marker=\"*\", s=100, c=\"y\", label=\"Efficient Risk\")\n",
    "\n",
    "# #Trovo il portafoglio con un livello di rendimento\n",
    "# weights_efficient_return = ef_efficient_return.efficient_return(0.214)\n",
    "# ret_tangent, std_tangent, _  = ef_efficient_return.portfolio_performance()\n",
    "# ax.scatter(std_tangent, ret_tangent, marker=\"*\", s=100, c=\"orange\", label=\"Efficient Return\")\n",
    "\n",
    "# Portafoglio attuale\n",
    "ef = EfficientFrontier(mu[actual_tickers], S.loc[actual_tickers,actual_tickers], weight_bounds=(0, 1))\n",
    "ef.add_constraint(lambda x: x == pesi_actual)#assegno i pesi veri\n",
    "ef_actual = ef.deepcopy()\n",
    "weights_actual = ef_actual.max_sharpe()#trovo il max_sharpe per i pesi attuali.\n",
    "ret_tangent, std_tangent, _ = ef_actual.portfolio_performance() #le performance coincidono con rendimenti_stocks e volatilita_stocks\n",
    "ax.scatter(std_tangent, ret_tangent, marker=\"*\", s=100, c=\"b\", label=\"Actual\")\n",
    "\n",
    "# Output\n",
    "ax.set_title(\"Efficient Frontier with random portfolios\")\n",
    "ax.legend()\n",
    "plt.tight_layout()\n",
    "plt.savefig(\"ef_scatter.png\", dpi=200)\n",
    "plt.show()\n",
    "\n",
    "\n",
    "print(\"Pesi Max Sharpe:\")\n",
    "for chiave, valore in weights_max_sharpe.items():\n",
    "    print(f\"{chiave}: {round(valore * 100, 2)}%\", end=\" | \")\n",
    "print()\n",
    "ef_max_sharpe.portfolio_performance(verbose=True);\n",
    "\n",
    "print(\"\\n\\nPesi Portfolio Actual:\")\n",
    "#Rapporto i pesi attuali in modo da poter confrontare con i pesi nuovi\n",
    "somma_pesi_nuovi = pesi_nuovi.sum()\n",
    "weights_actual_rapportati = {chiave: valore * somma_pesi_nuovi for chiave, valore in weights_actual.items()}\n",
    "\n",
    "for chiave, valore in weights_actual_rapportati.items():\n",
    "    print(f\"{chiave}: {round(valore * 100, 2)}%\", end=\" | \")\n",
    "print()\n",
    "ef_actual.portfolio_performance(verbose=True);\n",
    "\n",
    "# print(\"\\n\\nPesi Min Volatility:\")\n",
    "# for chiave, valore in weights_min_volatility.items():\n",
    "#     print(f\"{chiave}: {round(valore * 100, 2)}%\", end=\" | \")\n",
    "# print()\n",
    "# ef_min_volatility.portfolio_performance(verbose=True);\n",
    "\n",
    "# print(\"\\n\\nPesi Efficient Risk:\")\n",
    "# for chiave, valore in weights_efficient_risk.items():\n",
    "#     print(f\"{chiave}: {round(valore * 100, 2)}%\", end=\" | \")\n",
    "# print()\n",
    "# ef_efficient_risk.portfolio_performance(verbose=True);\n",
    "\n",
    "# print(\"\\n\\nPesi Efficient Return:\")\n",
    "# for chiave, valore in weights_efficient_return.items():\n",
    "#     print(f\"{chiave}: {round(valore * 100, 2)}%\", end=\" | \")\n",
    "# print()\n",
    "# ef_efficient_return.portfolio_performance(verbose=True);"
   ]
  },
  {
   "cell_type": "code",
   "execution_count": 62,
   "id": "1221741a",
   "metadata": {},
   "outputs": [
    {
     "name": "stdout",
     "output_type": "stream",
     "text": [
      "{'MMM': 25, 'ACN': 3, 'BABA': 4, 'CHK': 30, 'MPW': 76, 'SRG.MI': 88, 'SNOW': 2, 'DIS': 1, 'EUNA.DE': 17, 'VWCE.DE': 27, 'PLTR': 35}\n"
     ]
    },
    {
     "name": "stderr",
     "output_type": "stream",
     "text": [
      "C:\\Users\\Libero\\miniconda3\\envs\\finance\\lib\\site-packages\\cvxpy\\problems\\problem.py:1403: UserWarning: Solution may be inaccurate. Try another solver, adjusting the solver settings, or solve with verbose=True for more information.\n",
      "  warnings.warn(\n"
     ]
    }
   ],
   "source": [
    "from pypfopt.discrete_allocation import DiscreteAllocation, get_latest_prices\n",
    "\n",
    "latest_prices = get_latest_prices(matrice_prezzi)\n",
    "da = DiscreteAllocation(weights_max_sharpe, latest_prices, total_portfolio_value=11334)\n",
    "allocation, leftover = da.lp_portfolio()\n",
    "print(allocation)"
   ]
  }
 ],
 "metadata": {
  "kernelspec": {
   "display_name": "Python 3 (ipykernel)",
   "language": "python",
   "name": "python3"
  },
  "language_info": {
   "codemirror_mode": {
    "name": "ipython",
    "version": 3
   },
   "file_extension": ".py",
   "mimetype": "text/x-python",
   "name": "python",
   "nbconvert_exporter": "python",
   "pygments_lexer": "ipython3",
   "version": "3.10.9"
  },
  "toc": {
   "base_numbering": 1,
   "nav_menu": {},
   "number_sections": true,
   "sideBar": true,
   "skip_h1_title": false,
   "title_cell": "Table of Contents",
   "title_sidebar": "Contents",
   "toc_cell": false,
   "toc_position": {},
   "toc_section_display": true,
   "toc_window_display": true
  },
  "varInspector": {
   "cols": {
    "lenName": 16,
    "lenType": 16,
    "lenVar": 40
   },
   "kernels_config": {
    "python": {
     "delete_cmd_postfix": "",
     "delete_cmd_prefix": "del ",
     "library": "var_list.py",
     "varRefreshCmd": "print(var_dic_list())"
    },
    "r": {
     "delete_cmd_postfix": ") ",
     "delete_cmd_prefix": "rm(",
     "library": "var_list.r",
     "varRefreshCmd": "cat(var_dic_list()) "
    }
   },
   "types_to_exclude": [
    "module",
    "function",
    "builtin_function_or_method",
    "instance",
    "_Feature"
   ],
   "window_display": false
  }
 },
 "nbformat": 4,
 "nbformat_minor": 5
}
