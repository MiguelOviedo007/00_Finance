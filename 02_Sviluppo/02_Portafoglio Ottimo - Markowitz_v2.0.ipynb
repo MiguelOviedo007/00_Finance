{
 "cells": [
  {
   "cell_type": "markdown",
   "id": "d1b51a32",
   "metadata": {},
   "source": [
    "## Estrazione dati"
   ]
  },
  {
   "cell_type": "code",
   "execution_count": 37,
   "id": "e0ad1ef7",
   "metadata": {
    "scrolled": true
   },
   "outputs": [
    {
     "name": "stdout",
     "output_type": "stream",
     "text": [
      "[*********************100%***********************]  1 of 1 completed\n",
      "[*********************100%***********************]  1 of 1 completed\n",
      "[*********************100%***********************]  1 of 1 completed\n",
      "[*********************100%***********************]  1 of 1 completed\n",
      "[*********************100%***********************]  1 of 1 completed\n",
      "[*********************100%***********************]  1 of 1 completed\n",
      "[*********************100%***********************]  1 of 1 completed\n",
      "[*********************100%***********************]  1 of 1 completed\n",
      "[*********************100%***********************]  1 of 1 completed\n",
      "[*********************100%***********************]  1 of 1 completed\n",
      "[*********************100%***********************]  1 of 1 completed\n",
      "[*********************100%***********************]  1 of 1 completed\n"
     ]
    }
   ],
   "source": [
    "import numpy as np\n",
    "import pandas as pd\n",
    "from pandas_datareader import data\n",
    "import yfinance as yf\n",
    "from datetime import datetime\n",
    "yf.pdr_override()\n",
    "start_date = datetime(2010, 2, 12)  # Data di inizio\n",
    "end_date = datetime.now()\n",
    "\n",
    "actual_tickers = ['ACN', 'BABA', \"CHK\", 'MPW', 'SRG.MI', \"SNOW\", 'DIS' , \"EUNA.DE\", \"VWCE.DE\"]\n",
    "n_actual_tickers = len(actual_tickers)\n",
    "\n",
    "new_tickers = [\"PLTR\", \"NVD\",\"CRM\"]\n",
    "# new_tickers = [\"UCG.MI\", \"TSM\", \"AMAT\", \"EOG\", \"NTES\",\"VLO\", \"NUE\", \"STM\", \"TS\", \"STLD\", \"CF\", \"CHK\"]\n",
    "\n",
    "tickers = actual_tickers + new_tickers\n",
    "total_tickers = len(tickers)\n",
    "matrice_prezzi = pd.DataFrame()\n",
    "for t in tickers:\n",
    "    matrice_prezzi[t] = data.get_data_yahoo(t, start_date, end_date)['Adj Close']"
   ]
  },
  {
   "cell_type": "markdown",
   "id": "e0494005",
   "metadata": {},
   "source": [
    "#### Rendimenti annualizzati"
   ]
  },
  {
   "cell_type": "code",
   "execution_count": 39,
   "id": "cb46baf1",
   "metadata": {},
   "outputs": [],
   "source": [
    "from pypfopt.expected_returns import mean_historical_return"
   ]
  },
  {
   "cell_type": "code",
   "execution_count": 40,
   "id": "45dbd276",
   "metadata": {
    "scrolled": false
   },
   "outputs": [
    {
     "data": {
      "text/plain": [
       "ACN        0.206230\n",
       "BABA       0.054741\n",
       "CHK        0.311841\n",
       "MPW        0.043555\n",
       "SRG.MI     0.105674\n",
       "SNOW       0.127441\n",
       "DIS        0.125484\n",
       "EUNA.DE   -0.009924\n",
       "VWCE.DE    0.105572\n",
       "PLTR       0.435111\n",
       "NVD       -0.987588\n",
       "CRM        0.269907\n",
       "dtype: float64"
      ]
     },
     "execution_count": 40,
     "metadata": {},
     "output_type": "execute_result"
    }
   ],
   "source": [
    "rendimenti = mean_historical_return(matrice_prezzi, returns_data=False, compounding=False, frequency=252, log_returns=False)\n",
    "rendimenti"
   ]
  },
  {
   "cell_type": "markdown",
   "id": "1ef3f93e",
   "metadata": {},
   "source": [
    "#### Matrice di varianza e covarianza"
   ]
  },
  {
   "cell_type": "code",
   "execution_count": 41,
   "id": "a3643c0b",
   "metadata": {},
   "outputs": [
    {
     "data": {
      "text/html": [
       "<div>\n",
       "<style scoped>\n",
       "    .dataframe tbody tr th:only-of-type {\n",
       "        vertical-align: middle;\n",
       "    }\n",
       "\n",
       "    .dataframe tbody tr th {\n",
       "        vertical-align: top;\n",
       "    }\n",
       "\n",
       "    .dataframe thead th {\n",
       "        text-align: right;\n",
       "    }\n",
       "</style>\n",
       "<table border=\"1\" class=\"dataframe\">\n",
       "  <thead>\n",
       "    <tr style=\"text-align: right;\">\n",
       "      <th></th>\n",
       "      <th>ACN</th>\n",
       "      <th>BABA</th>\n",
       "      <th>CHK</th>\n",
       "      <th>MPW</th>\n",
       "      <th>SRG.MI</th>\n",
       "      <th>SNOW</th>\n",
       "      <th>DIS</th>\n",
       "      <th>EUNA.DE</th>\n",
       "      <th>VWCE.DE</th>\n",
       "      <th>PLTR</th>\n",
       "      <th>NVD</th>\n",
       "      <th>CRM</th>\n",
       "    </tr>\n",
       "  </thead>\n",
       "  <tbody>\n",
       "    <tr>\n",
       "      <th>ACN</th>\n",
       "      <td>0.058874</td>\n",
       "      <td>0.034380</td>\n",
       "      <td>0.024664</td>\n",
       "      <td>0.032656</td>\n",
       "      <td>0.015754</td>\n",
       "      <td>0.061363</td>\n",
       "      <td>0.033338</td>\n",
       "      <td>0.000802</td>\n",
       "      <td>0.029089</td>\n",
       "      <td>0.062499</td>\n",
       "      <td>-0.029967</td>\n",
       "      <td>0.044637</td>\n",
       "    </tr>\n",
       "    <tr>\n",
       "      <th>BABA</th>\n",
       "      <td>0.034380</td>\n",
       "      <td>0.174804</td>\n",
       "      <td>0.026758</td>\n",
       "      <td>0.029705</td>\n",
       "      <td>0.014629</td>\n",
       "      <td>0.120535</td>\n",
       "      <td>0.032566</td>\n",
       "      <td>-0.000043</td>\n",
       "      <td>0.029548</td>\n",
       "      <td>0.114084</td>\n",
       "      <td>-0.038766</td>\n",
       "      <td>0.051172</td>\n",
       "    </tr>\n",
       "    <tr>\n",
       "      <th>CHK</th>\n",
       "      <td>0.024664</td>\n",
       "      <td>0.026758</td>\n",
       "      <td>0.151130</td>\n",
       "      <td>0.028571</td>\n",
       "      <td>0.010440</td>\n",
       "      <td>0.035895</td>\n",
       "      <td>0.032817</td>\n",
       "      <td>0.000192</td>\n",
       "      <td>0.014414</td>\n",
       "      <td>0.044065</td>\n",
       "      <td>-0.003787</td>\n",
       "      <td>0.030187</td>\n",
       "    </tr>\n",
       "    <tr>\n",
       "      <th>MPW</th>\n",
       "      <td>0.032656</td>\n",
       "      <td>0.029705</td>\n",
       "      <td>0.028571</td>\n",
       "      <td>0.111223</td>\n",
       "      <td>0.018460</td>\n",
       "      <td>0.047338</td>\n",
       "      <td>0.034395</td>\n",
       "      <td>0.002010</td>\n",
       "      <td>0.031238</td>\n",
       "      <td>0.068132</td>\n",
       "      <td>-0.027890</td>\n",
       "      <td>0.037503</td>\n",
       "    </tr>\n",
       "    <tr>\n",
       "      <th>SRG.MI</th>\n",
       "      <td>0.015754</td>\n",
       "      <td>0.014629</td>\n",
       "      <td>0.010440</td>\n",
       "      <td>0.018460</td>\n",
       "      <td>0.049566</td>\n",
       "      <td>0.005840</td>\n",
       "      <td>0.015244</td>\n",
       "      <td>0.001414</td>\n",
       "      <td>0.022458</td>\n",
       "      <td>0.009206</td>\n",
       "      <td>-0.004809</td>\n",
       "      <td>0.015264</td>\n",
       "    </tr>\n",
       "    <tr>\n",
       "      <th>SNOW</th>\n",
       "      <td>0.061363</td>\n",
       "      <td>0.120535</td>\n",
       "      <td>0.035895</td>\n",
       "      <td>0.047338</td>\n",
       "      <td>0.005840</td>\n",
       "      <td>0.421986</td>\n",
       "      <td>0.063224</td>\n",
       "      <td>0.005834</td>\n",
       "      <td>0.022757</td>\n",
       "      <td>0.241805</td>\n",
       "      <td>-0.072065</td>\n",
       "      <td>0.121093</td>\n",
       "    </tr>\n",
       "    <tr>\n",
       "      <th>DIS</th>\n",
       "      <td>0.033338</td>\n",
       "      <td>0.032566</td>\n",
       "      <td>0.032817</td>\n",
       "      <td>0.034395</td>\n",
       "      <td>0.015244</td>\n",
       "      <td>0.063224</td>\n",
       "      <td>0.068279</td>\n",
       "      <td>0.000835</td>\n",
       "      <td>0.029613</td>\n",
       "      <td>0.068441</td>\n",
       "      <td>-0.025409</td>\n",
       "      <td>0.038508</td>\n",
       "    </tr>\n",
       "    <tr>\n",
       "      <th>EUNA.DE</th>\n",
       "      <td>0.000802</td>\n",
       "      <td>-0.000043</td>\n",
       "      <td>0.000192</td>\n",
       "      <td>0.002010</td>\n",
       "      <td>0.001414</td>\n",
       "      <td>0.005834</td>\n",
       "      <td>0.000835</td>\n",
       "      <td>0.001931</td>\n",
       "      <td>0.000023</td>\n",
       "      <td>0.004605</td>\n",
       "      <td>-0.006688</td>\n",
       "      <td>0.000655</td>\n",
       "    </tr>\n",
       "    <tr>\n",
       "      <th>VWCE.DE</th>\n",
       "      <td>0.029089</td>\n",
       "      <td>0.029548</td>\n",
       "      <td>0.014414</td>\n",
       "      <td>0.031238</td>\n",
       "      <td>0.022458</td>\n",
       "      <td>0.022757</td>\n",
       "      <td>0.029613</td>\n",
       "      <td>0.000023</td>\n",
       "      <td>0.030164</td>\n",
       "      <td>0.026327</td>\n",
       "      <td>-0.016445</td>\n",
       "      <td>0.028431</td>\n",
       "    </tr>\n",
       "    <tr>\n",
       "      <th>PLTR</th>\n",
       "      <td>0.062499</td>\n",
       "      <td>0.114084</td>\n",
       "      <td>0.044065</td>\n",
       "      <td>0.068132</td>\n",
       "      <td>0.009206</td>\n",
       "      <td>0.241805</td>\n",
       "      <td>0.068441</td>\n",
       "      <td>0.004605</td>\n",
       "      <td>0.026327</td>\n",
       "      <td>0.537144</td>\n",
       "      <td>-0.138581</td>\n",
       "      <td>0.116232</td>\n",
       "    </tr>\n",
       "    <tr>\n",
       "      <th>NVD</th>\n",
       "      <td>-0.029967</td>\n",
       "      <td>-0.038766</td>\n",
       "      <td>-0.003787</td>\n",
       "      <td>-0.027890</td>\n",
       "      <td>-0.004809</td>\n",
       "      <td>-0.072065</td>\n",
       "      <td>-0.025409</td>\n",
       "      <td>-0.006688</td>\n",
       "      <td>-0.016445</td>\n",
       "      <td>-0.138581</td>\n",
       "      <td>0.261685</td>\n",
       "      <td>-0.046731</td>\n",
       "    </tr>\n",
       "    <tr>\n",
       "      <th>CRM</th>\n",
       "      <td>0.044637</td>\n",
       "      <td>0.051172</td>\n",
       "      <td>0.030187</td>\n",
       "      <td>0.037503</td>\n",
       "      <td>0.015264</td>\n",
       "      <td>0.121093</td>\n",
       "      <td>0.038508</td>\n",
       "      <td>0.000655</td>\n",
       "      <td>0.028431</td>\n",
       "      <td>0.116232</td>\n",
       "      <td>-0.046731</td>\n",
       "      <td>0.131334</td>\n",
       "    </tr>\n",
       "  </tbody>\n",
       "</table>\n",
       "</div>"
      ],
      "text/plain": [
       "              ACN      BABA       CHK       MPW    SRG.MI      SNOW       DIS  \\\n",
       "ACN      0.058874  0.034380  0.024664  0.032656  0.015754  0.061363  0.033338   \n",
       "BABA     0.034380  0.174804  0.026758  0.029705  0.014629  0.120535  0.032566   \n",
       "CHK      0.024664  0.026758  0.151130  0.028571  0.010440  0.035895  0.032817   \n",
       "MPW      0.032656  0.029705  0.028571  0.111223  0.018460  0.047338  0.034395   \n",
       "SRG.MI   0.015754  0.014629  0.010440  0.018460  0.049566  0.005840  0.015244   \n",
       "SNOW     0.061363  0.120535  0.035895  0.047338  0.005840  0.421986  0.063224   \n",
       "DIS      0.033338  0.032566  0.032817  0.034395  0.015244  0.063224  0.068279   \n",
       "EUNA.DE  0.000802 -0.000043  0.000192  0.002010  0.001414  0.005834  0.000835   \n",
       "VWCE.DE  0.029089  0.029548  0.014414  0.031238  0.022458  0.022757  0.029613   \n",
       "PLTR     0.062499  0.114084  0.044065  0.068132  0.009206  0.241805  0.068441   \n",
       "NVD     -0.029967 -0.038766 -0.003787 -0.027890 -0.004809 -0.072065 -0.025409   \n",
       "CRM      0.044637  0.051172  0.030187  0.037503  0.015264  0.121093  0.038508   \n",
       "\n",
       "          EUNA.DE   VWCE.DE      PLTR       NVD       CRM  \n",
       "ACN      0.000802  0.029089  0.062499 -0.029967  0.044637  \n",
       "BABA    -0.000043  0.029548  0.114084 -0.038766  0.051172  \n",
       "CHK      0.000192  0.014414  0.044065 -0.003787  0.030187  \n",
       "MPW      0.002010  0.031238  0.068132 -0.027890  0.037503  \n",
       "SRG.MI   0.001414  0.022458  0.009206 -0.004809  0.015264  \n",
       "SNOW     0.005834  0.022757  0.241805 -0.072065  0.121093  \n",
       "DIS      0.000835  0.029613  0.068441 -0.025409  0.038508  \n",
       "EUNA.DE  0.001931  0.000023  0.004605 -0.006688  0.000655  \n",
       "VWCE.DE  0.000023  0.030164  0.026327 -0.016445  0.028431  \n",
       "PLTR     0.004605  0.026327  0.537144 -0.138581  0.116232  \n",
       "NVD     -0.006688 -0.016445 -0.138581  0.261685 -0.046731  \n",
       "CRM      0.000655  0.028431  0.116232 -0.046731  0.131334  "
      ]
     },
     "execution_count": 41,
     "metadata": {},
     "output_type": "execute_result"
    }
   ],
   "source": [
    "from pypfopt.risk_models import risk_matrix\n",
    "from pypfopt.risk_models import sample_cov\n",
    "S = risk_matrix(matrice_prezzi, method='sample_cov')\n",
    "S"
   ]
  },
  {
   "cell_type": "markdown",
   "id": "68f14989",
   "metadata": {},
   "source": [
    "#### Pesi dell'investimento attuale\n",
    "NB: il dizionario contiene i valori attulmente investiti.\n",
    "\n",
    "Da questi vengono calcolati i pesi attuali e pesi nuovi\n",
    "\n",
    "I pesi nuovi tengono in considerazione del margine disponibile che si vuole investire"
   ]
  },
  {
   "cell_type": "code",
   "execution_count": 42,
   "id": "db3093f3",
   "metadata": {},
   "outputs": [],
   "source": [
    "#Pesi attuali\n",
    "\n",
    "diz_valore_investito = {'ACN':1335.58,\n",
    "'BABA':318.48,\n",
    "'CHK':2508.45,\n",
    "'MPW':281.73,\n",
    "'SRG':473.4,\n",
    "'SNOW':354.42,\n",
    "'DIS':85.4,\n",
    "'EUNA':93.46,\n",
    "'VWCE':3229.2\n",
    "}\n",
    "\n",
    "\n",
    "\n",
    "valore_investito = np.array(list(diz_valore_investito.values()))\n",
    "totale_investito = valore_investito.sum()\n",
    "pesi_actual = (valore_investito)/totale_investito\n",
    "margine_disponibile = 2641.66\n",
    "\n",
    "pesi_nuovi = valore_investito/(totale_investito+margine_disponibile)"
   ]
  },
  {
   "cell_type": "markdown",
   "id": "21f0620d",
   "metadata": {},
   "source": [
    "#### Rendimento complessivo con pesi attuali"
   ]
  },
  {
   "cell_type": "code",
   "execution_count": 43,
   "id": "29e24b71",
   "metadata": {},
   "outputs": [
    {
     "name": "stdout",
     "output_type": "stream",
     "text": [
      "Il rendimento totale annualizzato è pari al  17.66%\n"
     ]
    }
   ],
   "source": [
    "rendimenti_stocks = (np.dot(rendimenti[actual_tickers], pesi_actual))\n",
    "print(f\"Il rendimento totale annualizzato è pari al  {round(rendimenti_stocks * 100, 2)}%\")"
   ]
  },
  {
   "cell_type": "markdown",
   "id": "a12f73a4",
   "metadata": {},
   "source": [
    "#### Varianza e Volatilità complessiva del portafoglio attuale"
   ]
  },
  {
   "cell_type": "code",
   "execution_count": 44,
   "id": "d076a8d4",
   "metadata": {},
   "outputs": [],
   "source": [
    "S_actual = S.loc[actual_tickers, actual_tickers]"
   ]
  },
  {
   "cell_type": "code",
   "execution_count": 45,
   "id": "bd3ab75d",
   "metadata": {
    "scrolled": false
   },
   "outputs": [
    {
     "data": {
      "text/html": [
       "<div>\n",
       "<style scoped>\n",
       "    .dataframe tbody tr th:only-of-type {\n",
       "        vertical-align: middle;\n",
       "    }\n",
       "\n",
       "    .dataframe tbody tr th {\n",
       "        vertical-align: top;\n",
       "    }\n",
       "\n",
       "    .dataframe thead th {\n",
       "        text-align: right;\n",
       "    }\n",
       "</style>\n",
       "<table border=\"1\" class=\"dataframe\">\n",
       "  <thead>\n",
       "    <tr style=\"text-align: right;\">\n",
       "      <th></th>\n",
       "      <th>ACN</th>\n",
       "      <th>BABA</th>\n",
       "      <th>CHK</th>\n",
       "      <th>MPW</th>\n",
       "      <th>SRG.MI</th>\n",
       "      <th>SNOW</th>\n",
       "      <th>DIS</th>\n",
       "      <th>EUNA.DE</th>\n",
       "      <th>VWCE.DE</th>\n",
       "    </tr>\n",
       "  </thead>\n",
       "  <tbody>\n",
       "    <tr>\n",
       "      <th>ACN</th>\n",
       "      <td>0.058874</td>\n",
       "      <td>0.034380</td>\n",
       "      <td>0.024664</td>\n",
       "      <td>0.032656</td>\n",
       "      <td>0.015754</td>\n",
       "      <td>0.061363</td>\n",
       "      <td>0.033338</td>\n",
       "      <td>0.000802</td>\n",
       "      <td>0.029089</td>\n",
       "    </tr>\n",
       "    <tr>\n",
       "      <th>BABA</th>\n",
       "      <td>0.034380</td>\n",
       "      <td>0.174804</td>\n",
       "      <td>0.026758</td>\n",
       "      <td>0.029705</td>\n",
       "      <td>0.014629</td>\n",
       "      <td>0.120535</td>\n",
       "      <td>0.032566</td>\n",
       "      <td>-0.000043</td>\n",
       "      <td>0.029548</td>\n",
       "    </tr>\n",
       "    <tr>\n",
       "      <th>CHK</th>\n",
       "      <td>0.024664</td>\n",
       "      <td>0.026758</td>\n",
       "      <td>0.151130</td>\n",
       "      <td>0.028571</td>\n",
       "      <td>0.010440</td>\n",
       "      <td>0.035895</td>\n",
       "      <td>0.032817</td>\n",
       "      <td>0.000192</td>\n",
       "      <td>0.014414</td>\n",
       "    </tr>\n",
       "    <tr>\n",
       "      <th>MPW</th>\n",
       "      <td>0.032656</td>\n",
       "      <td>0.029705</td>\n",
       "      <td>0.028571</td>\n",
       "      <td>0.111223</td>\n",
       "      <td>0.018460</td>\n",
       "      <td>0.047338</td>\n",
       "      <td>0.034395</td>\n",
       "      <td>0.002010</td>\n",
       "      <td>0.031238</td>\n",
       "    </tr>\n",
       "    <tr>\n",
       "      <th>SRG.MI</th>\n",
       "      <td>0.015754</td>\n",
       "      <td>0.014629</td>\n",
       "      <td>0.010440</td>\n",
       "      <td>0.018460</td>\n",
       "      <td>0.049566</td>\n",
       "      <td>0.005840</td>\n",
       "      <td>0.015244</td>\n",
       "      <td>0.001414</td>\n",
       "      <td>0.022458</td>\n",
       "    </tr>\n",
       "    <tr>\n",
       "      <th>SNOW</th>\n",
       "      <td>0.061363</td>\n",
       "      <td>0.120535</td>\n",
       "      <td>0.035895</td>\n",
       "      <td>0.047338</td>\n",
       "      <td>0.005840</td>\n",
       "      <td>0.421986</td>\n",
       "      <td>0.063224</td>\n",
       "      <td>0.005834</td>\n",
       "      <td>0.022757</td>\n",
       "    </tr>\n",
       "    <tr>\n",
       "      <th>DIS</th>\n",
       "      <td>0.033338</td>\n",
       "      <td>0.032566</td>\n",
       "      <td>0.032817</td>\n",
       "      <td>0.034395</td>\n",
       "      <td>0.015244</td>\n",
       "      <td>0.063224</td>\n",
       "      <td>0.068279</td>\n",
       "      <td>0.000835</td>\n",
       "      <td>0.029613</td>\n",
       "    </tr>\n",
       "    <tr>\n",
       "      <th>EUNA.DE</th>\n",
       "      <td>0.000802</td>\n",
       "      <td>-0.000043</td>\n",
       "      <td>0.000192</td>\n",
       "      <td>0.002010</td>\n",
       "      <td>0.001414</td>\n",
       "      <td>0.005834</td>\n",
       "      <td>0.000835</td>\n",
       "      <td>0.001931</td>\n",
       "      <td>0.000023</td>\n",
       "    </tr>\n",
       "    <tr>\n",
       "      <th>VWCE.DE</th>\n",
       "      <td>0.029089</td>\n",
       "      <td>0.029548</td>\n",
       "      <td>0.014414</td>\n",
       "      <td>0.031238</td>\n",
       "      <td>0.022458</td>\n",
       "      <td>0.022757</td>\n",
       "      <td>0.029613</td>\n",
       "      <td>0.000023</td>\n",
       "      <td>0.030164</td>\n",
       "    </tr>\n",
       "  </tbody>\n",
       "</table>\n",
       "</div>"
      ],
      "text/plain": [
       "              ACN      BABA       CHK       MPW    SRG.MI      SNOW       DIS  \\\n",
       "ACN      0.058874  0.034380  0.024664  0.032656  0.015754  0.061363  0.033338   \n",
       "BABA     0.034380  0.174804  0.026758  0.029705  0.014629  0.120535  0.032566   \n",
       "CHK      0.024664  0.026758  0.151130  0.028571  0.010440  0.035895  0.032817   \n",
       "MPW      0.032656  0.029705  0.028571  0.111223  0.018460  0.047338  0.034395   \n",
       "SRG.MI   0.015754  0.014629  0.010440  0.018460  0.049566  0.005840  0.015244   \n",
       "SNOW     0.061363  0.120535  0.035895  0.047338  0.005840  0.421986  0.063224   \n",
       "DIS      0.033338  0.032566  0.032817  0.034395  0.015244  0.063224  0.068279   \n",
       "EUNA.DE  0.000802 -0.000043  0.000192  0.002010  0.001414  0.005834  0.000835   \n",
       "VWCE.DE  0.029089  0.029548  0.014414  0.031238  0.022458  0.022757  0.029613   \n",
       "\n",
       "          EUNA.DE   VWCE.DE  \n",
       "ACN      0.000802  0.029089  \n",
       "BABA    -0.000043  0.029548  \n",
       "CHK      0.000192  0.014414  \n",
       "MPW      0.002010  0.031238  \n",
       "SRG.MI   0.001414  0.022458  \n",
       "SNOW     0.005834  0.022757  \n",
       "DIS      0.000835  0.029613  \n",
       "EUNA.DE  0.001931  0.000023  \n",
       "VWCE.DE  0.000023  0.030164  "
      ]
     },
     "execution_count": 45,
     "metadata": {},
     "output_type": "execute_result"
    }
   ],
   "source": [
    "S_actual"
   ]
  },
  {
   "cell_type": "code",
   "execution_count": 46,
   "id": "67b7e2f2",
   "metadata": {},
   "outputs": [
    {
     "data": {
      "text/plain": [
       "0.03655283516031703"
      ]
     },
     "execution_count": 46,
     "metadata": {},
     "output_type": "execute_result"
    }
   ],
   "source": [
    "varianza_stocks = np.dot(pesi_actual.T, np.dot(S_actual, pesi_actual ))\n",
    "varianza_stocks"
   ]
  },
  {
   "cell_type": "code",
   "execution_count": 47,
   "id": "fbfe6b1c",
   "metadata": {},
   "outputs": [
    {
     "name": "stdout",
     "output_type": "stream",
     "text": [
      "La volatilità totale annualizzata è pari al 19.12%\n"
     ]
    }
   ],
   "source": [
    "volatilita_stocks = np.sqrt(varianza_stocks)\n",
    "print(f\"La volatilità totale annualizzata è pari al {round(volatilita_stocks * 100, 2)}%\")"
   ]
  },
  {
   "cell_type": "markdown",
   "id": "d9bf6469",
   "metadata": {},
   "source": [
    "------------------"
   ]
  },
  {
   "cell_type": "markdown",
   "id": "ee066fb4",
   "metadata": {},
   "source": [
    "#### Ricalcolo dei rendimenti e matrice di varianza e covarianza\n",
    "- mu  --> Rendimenti annualizzati\n",
    "- S . --> Matrice di Varianza e Covarianza"
   ]
  },
  {
   "cell_type": "code",
   "execution_count": 48,
   "id": "2768abbf",
   "metadata": {},
   "outputs": [],
   "source": [
    "from pypfopt.risk_models import CovarianceShrinkage\n",
    "mu = mean_historical_return(matrice_prezzi, returns_data=False, compounding=False, frequency=252, log_returns=False)\n",
    "S = CovarianceShrinkage(matrice_prezzi).ledoit_wolf()"
   ]
  },
  {
   "cell_type": "markdown",
   "id": "c10ddb5b",
   "metadata": {},
   "source": [
    "#### Matrice dei pesi\n",
    "\n",
    "La matrice dei pesi **w** contiene n_samples vettori\n",
    "\n",
    "Ogni vettore è lungo total_tickers (tikers presenti nel portafoglio attuale + tikers di interesse).\n",
    "\n",
    "Per i tickers presenti nel portafoglio attuale i pesi sono fissi. Questo perchè vogliamo generare il portafoglio ottimo a partire dal investimento attuale.\n",
    "\n",
    "Per i ticker di interesse i pesi vengono generati in modo randomico. Questo perchè ci interessa generare tanti portafogli a partire dal portafoglio attuale.\n",
    "\n",
    "NB: Ogni vettore restituisce come somma 1\n",
    "\n"
   ]
  },
  {
   "cell_type": "code",
   "execution_count": 49,
   "id": "8fa2466a",
   "metadata": {},
   "outputs": [
    {
     "data": {
      "text/plain": [
       "['ACN', 'BABA', 'CHK', 'MPW', 'SRG.MI', 'SNOW', 'DIS', 'EUNA.DE', 'VWCE.DE']"
      ]
     },
     "execution_count": 49,
     "metadata": {},
     "output_type": "execute_result"
    }
   ],
   "source": [
    "actual_tickers"
   ]
  },
  {
   "cell_type": "code",
   "execution_count": 50,
   "id": "a0e2ea3a",
   "metadata": {},
   "outputs": [],
   "source": [
    "import numpy as np\n",
    "n_samples = 10000\n",
    "# Generazione di valori casuali normalizzati negli ultimi 12 elementi di ogni array\n",
    "random_values = np.random.rand(n_samples, total_tickers - n_actual_tickers)\n",
    "normalized_values = random_values * (1-pesi_nuovi.sum()) / np.sum(random_values, axis=1, keepdims=True)\n",
    "\n",
    "# Ripetizione dell'array di base per il numero di array desiderato\n",
    "pesi_nuovi_repeated = np.tile(pesi_nuovi, (n_samples, 1))\n",
    "\n",
    "# Combinazione dei valori fissi e quelli normalizzati\n",
    "w = np.column_stack((pesi_nuovi_repeated, normalized_values))\n"
   ]
  },
  {
   "cell_type": "markdown",
   "id": "8f634ae8",
   "metadata": {},
   "source": [
    "#### Portafoglio best - max sharpe"
   ]
  },
  {
   "cell_type": "code",
   "execution_count": 51,
   "id": "5d99aea5",
   "metadata": {
    "scrolled": false
   },
   "outputs": [
    {
     "name": "stdout",
     "output_type": "stream",
     "text": [
      "Expected annual return: 22.1%\n",
      "Annual volatility: 11.4%\n",
      "Sharpe Ratio: 1.76\n"
     ]
    },
    {
     "data": {
      "text/plain": [
       "OrderedDict([('ACN', 0.1179655495867258),\n",
       "             ('BABA', 0.0281298523730368),\n",
       "             ('CHK', 0.3545260646298082),\n",
       "             ('MPW', 0.024883896348454),\n",
       "             ('SRG.MI', 0.0418132131166654),\n",
       "             ('SNOW', 0.0313042648770776),\n",
       "             ('DIS', 0.0075429835237922),\n",
       "             ('EUNA.DE', 0.0082548857158503),\n",
       "             ('VWCE.DE', 0.2852201685600674),\n",
       "             ('PLTR', 0.1003591212685222),\n",
       "             ('NVD', 0.0),\n",
       "             ('CRM', 0.0)])"
      ]
     },
     "execution_count": 51,
     "metadata": {},
     "output_type": "execute_result"
    }
   ],
   "source": [
    "from pypfopt.efficient_frontier import EfficientFrontier\n",
    "\n",
    "ef = EfficientFrontier(mu, S, weight_bounds=(0, 1))\n",
    "ef.add_constraint(lambda x : x[:n_actual_tickers] >= pesi_nuovi) #assegno i pesi veri\n",
    "ef.add_constraint(lambda x : x[11] <= 0.25) #assegno i pesi veri\n",
    "\n",
    "weights_max_sharpe = ef.max_sharpe()\n",
    "# weights_max_sharpe = ef.efficient_return(0.20)\n",
    "ef.portfolio_performance(verbose=True)\n",
    "\n",
    "weights_max_sharpe"
   ]
  },
  {
   "cell_type": "markdown",
   "id": "9c335d0f",
   "metadata": {},
   "source": [
    "### Plotting EfficientFrontier"
   ]
  },
  {
   "cell_type": "code",
   "execution_count": 65,
   "id": "763f70a5",
   "metadata": {
    "scrolled": false
   },
   "outputs": [
    {
     "name": "stderr",
     "output_type": "stream",
     "text": [
      "C:\\Users\\Libero\\miniconda3\\envs\\finance\\lib\\site-packages\\cvxpy\\reductions\\solvers\\solving_chain.py:336: FutureWarning: \n",
      "    Your problem is being solved with the ECOS solver by default. Starting in \n",
      "    CVXPY 1.5.0, Clarabel will be used as the default solver instead. To continue \n",
      "    using ECOS, specify the ECOS solver explicitly using the ``solver=cp.ECOS`` \n",
      "    argument to the ``problem.solve`` method.\n",
      "    \n",
      "  warnings.warn(ECOS_DEPRECATION_MSG, FutureWarning)\n"
     ]
    },
    {
     "data": {
      "image/png": "[encoded data removed]",
      "text/plain": [
       "<Figure size 640x480 with 1 Axes>"
      ]
     },
     "metadata": {},
     "output_type": "display_data"
    },
    {
     "name": "stdout",
     "output_type": "stream",
     "text": [
      "Pesi Max Sharpe:\n",
      "ACN: 11.8% | BABA: 2.81% | CHK: 35.45% | MPW: 2.49% | SRG.MI: 4.18% | SNOW: 3.13% | DIS: 0.75% | EUNA.DE: 0.83% | VWCE.DE: 28.52% | PLTR: 10.04% | NVD: 0.0% | CRM: 0.0% | \n",
      "Expected annual return: 22.1%\n",
      "Annual volatility: 11.4%\n",
      "Sharpe Ratio: 1.76\n",
      "\n",
      "\n",
      "Pesi Portfolio Actual:\n",
      "ACN: 11.8% | BABA: 2.81% | CHK: 22.16% | MPW: 2.49% | SRG.MI: 4.18% | SNOW: 3.13% | DIS: 0.75% | EUNA.DE: 0.83% | VWCE.DE: 28.52% | \n",
      "Expected annual return: 17.7%\n",
      "Annual volatility: 10.6%\n",
      "Sharpe Ratio: 1.47\n"
     ]
    }
   ],
   "source": [
    "from pypfopt import plotting\n",
    "import matplotlib.pyplot as plt\n",
    "from pypfopt.efficient_frontier import EfficientFrontier\n",
    "\n",
    "ef = EfficientFrontier(mu, S, weight_bounds=(0, 1))\n",
    "ef.add_constraint(lambda x : x[:n_actual_tickers] >= pesi_nuovi)#assegno i pesi veri\n",
    "# ef.add_constraint(lambda x : x[11] <= 0.25)\n",
    "fig, ax = plt.subplots()\n",
    "\n",
    "ef_max_sharpe = ef.deepcopy()\n",
    "ef_min_volatility = ef.deepcopy()\n",
    "ef_efficient_risk = ef.deepcopy()\n",
    "ef_efficient_return = ef.deepcopy()\n",
    "\n",
    "plotting.plot_efficient_frontier(ef, ax=ax, show_assets=False)\n",
    "\n",
    "# Generate random portfolios\n",
    "rets = w.dot(ef.expected_returns)\n",
    "stds = np.sqrt(np.diag(w @ ef.cov_matrix @ w.T))\n",
    "sharpes = rets / stds # !!! porque no resta la taso libre de riesgo?\n",
    "ax.scatter(stds, rets, marker=\".\", c=sharpes, cmap=\"viridis_r\")\n",
    "\n",
    "# Trovo il portafoglio con sharpe massimo. il calcolo usa la tasa libre de riesgo\n",
    "weights_max_sharpe = ef_max_sharpe.max_sharpe()\n",
    "ret_tangent, std_tangent, _ = ef_max_sharpe.portfolio_performance()\n",
    "ax.scatter(std_tangent, ret_tangent, marker=\"*\", s=100, c=\"r\", label=\"Max Sharpe\")\n",
    "\n",
    "# Trovo il portafoglio con la minore volatilità\n",
    "weights_min_volatility = ef_min_volatility.min_volatility()\n",
    "ret_tangent, std_tangent, _  = ef_min_volatility.portfolio_performance()\n",
    "ax.scatter(std_tangent, ret_tangent, marker=\"*\", s=100, c=\"g\", label=\"Min Volatility\")\n",
    "\n",
    "# #Trovo il portafoglio con un livello di rischio\n",
    "# weights_efficient_risk = ef_efficient_risk.efficient_risk(0.113)\n",
    "# ret_tangent, std_tangent, _  = ef_efficient_risk.portfolio_performance()\n",
    "# ax.scatter(std_tangent, ret_tangent, marker=\"*\", s=100, c=\"y\", label=\"Efficient Risk\")\n",
    "\n",
    "# #Trovo il portafoglio con un livello di rendimento\n",
    "# weights_efficient_return = ef_efficient_return.efficient_return(0.214)\n",
    "# ret_tangent, std_tangent, _  = ef_efficient_return.portfolio_performance()\n",
    "# ax.scatter(std_tangent, ret_tangent, marker=\"*\", s=100, c=\"orange\", label=\"Efficient Return\")\n",
    "\n",
    "# Portafoglio attuale\n",
    "ef = EfficientFrontier(mu[actual_tickers], S.loc[actual_tickers,actual_tickers], weight_bounds=(0, 1))\n",
    "ef.add_constraint(lambda x: x == pesi_actual)#assegno i pesi veri\n",
    "ef_actual = ef.deepcopy()\n",
    "weights_actual = ef_actual.max_sharpe()#trovo il max_sharpe per i pesi attuali.\n",
    "ret_tangent, std_tangent, _ = ef_actual.portfolio_performance() #le performance coincidono con rendimenti_stocks e volatilita_stocks\n",
    "ax.scatter(std_tangent, ret_tangent, marker=\"*\", s=100, c=\"b\", label=\"Actual\")\n",
    "\n",
    "# Output\n",
    "ax.set_title(\"Efficient Frontier with random portfolios\")\n",
    "ax.legend()\n",
    "plt.tight_layout()\n",
    "plt.savefig(\"ef_scatter.png\", dpi=200)\n",
    "plt.show()\n",
    "\n",
    "\n",
    "print(\"Pesi Max Sharpe:\")\n",
    "for chiave, valore in weights_max_sharpe.items():\n",
    "    print(f\"{chiave}: {round(valore * 100, 2)}%\", end=\" | \")\n",
    "print()\n",
    "ef_max_sharpe.portfolio_performance(verbose=True);\n",
    "\n",
    "print(\"\\n\\nPesi Portfolio Actual:\")\n",
    "#Rapporto i pesi attuali in modo da poter confrontare con i pesi nuovi\n",
    "somma_pesi_nuovi = pesi_nuovi.sum()\n",
    "weights_actual_rapportati = {chiave: valore * somma_pesi_nuovi for chiave, valore in weights_actual.items()}\n",
    "\n",
    "for chiave, valore in weights_actual_rapportati.items():\n",
    "    print(f\"{chiave}: {round(valore * 100, 2)}%\", end=\" | \")\n",
    "print()\n",
    "ef_actual.portfolio_performance(verbose=True);\n",
    "\n",
    "# print(\"\\n\\nPesi Min Volatility:\")\n",
    "# for chiave, valore in weights_min_volatility.items():\n",
    "#     print(f\"{chiave}: {round(valore * 100, 2)}%\", end=\" | \")\n",
    "# print()\n",
    "# ef_min_volatility.portfolio_performance(verbose=True);\n",
    "\n",
    "# print(\"\\n\\nPesi Efficient Risk:\")\n",
    "# for chiave, valore in weights_efficient_risk.items():\n",
    "#     print(f\"{chiave}: {round(valore * 100, 2)}%\", end=\" | \")\n",
    "# print()\n",
    "# ef_efficient_risk.portfolio_performance(verbose=True);\n",
    "\n",
    "# print(\"\\n\\nPesi Efficient Return:\")\n",
    "# for chiave, valore in weights_efficient_return.items():\n",
    "#     print(f\"{chiave}: {round(valore * 100, 2)}%\", end=\" | \")\n",
    "# print()\n",
    "# ef_efficient_return.portfolio_performance(verbose=True);"
   ]
  },
  {
   "cell_type": "code",
   "execution_count": 66,
   "id": "1221741a",
   "metadata": {},
   "outputs": [
    {
     "name": "stdout",
     "output_type": "stream",
     "text": [
      "{'ACN': 4, 'BABA': 4, 'CHK': 53, 'MPW': 91, 'SRG.MI': 98, 'SNOW': 1, 'DIS': 1, 'EUNA.DE': 20, 'VWCE.DE': 30, 'PLTR': 67}\n"
     ]
    },
    {
     "name": "stderr",
     "output_type": "stream",
     "text": [
      "C:\\Users\\Libero\\miniconda3\\envs\\finance\\lib\\site-packages\\cvxpy\\problems\\problem.py:1403: UserWarning: Solution may be inaccurate. Try another solver, adjusting the solver settings, or solve with verbose=True for more information.\n",
      "  warnings.warn(\n"
     ]
    }
   ],
   "source": [
    "from pypfopt.discrete_allocation import DiscreteAllocation, get_latest_prices\n",
    "\n",
    "latest_prices = get_latest_prices(matrice_prezzi)\n",
    "da = DiscreteAllocation(weights_max_sharpe, latest_prices, total_portfolio_value=11334)\n",
    "allocation, leftover = da.lp_portfolio()\n",
    "print(allocation)"
   ]
  },
  {
   "cell_type": "code",
   "execution_count": null,
   "id": "a8f3a30e",
   "metadata": {},
   "outputs": [],
   "source": []
  }
 ],
 "metadata": {
  "kernelspec": {
   "display_name": "Python 3 (ipykernel)",
   "language": "python",
   "name": "python3"
  },
  "language_info": {
   "codemirror_mode": {
    "name": "ipython",
    "version": 3
   },
   "file_extension": ".py",
   "mimetype": "text/x-python",
   "name": "python",
   "nbconvert_exporter": "python",
   "pygments_lexer": "ipython3",
   "version": "3.10.9"
  },
  "toc": {
   "base_numbering": 1,
   "nav_menu": {},
   "number_sections": true,
   "sideBar": true,
   "skip_h1_title": false,
   "title_cell": "Table of Contents",
   "title_sidebar": "Contents",
   "toc_cell": false,
   "toc_position": {},
   "toc_section_display": true,
   "toc_window_display": false
  },
  "varInspector": {
   "cols": {
    "lenName": 16,
    "lenType": 16,
    "lenVar": 40
   },
   "kernels_config": {
    "python": {
     "delete_cmd_postfix": "",
     "delete_cmd_prefix": "del ",
     "library": "var_list.py",
     "varRefreshCmd": "print(var_dic_list())"
    },
    "r": {
     "delete_cmd_postfix": ") ",
     "delete_cmd_prefix": "rm(",
     "library": "var_list.r",
     "varRefreshCmd": "cat(var_dic_list()) "
    }
   },
   "types_to_exclude": [
    "module",
    "function",
    "builtin_function_or_method",
    "instance",
    "_Feature"
   ],
   "window_display": false
  }
 },
 "nbformat": 4,
 "nbformat_minor": 5
}
